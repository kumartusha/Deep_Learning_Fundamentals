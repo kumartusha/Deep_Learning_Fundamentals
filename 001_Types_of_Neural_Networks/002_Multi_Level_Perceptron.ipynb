{
 "cells": [
  {
   "cell_type": "markdown",
   "id": "6ba1e0fb-76af-41f6-9c0e-cbd9574b666a",
   "metadata": {},
   "source": [
    "# Multi Level Perceptron"
   ]
  },
  {
   "cell_type": "code",
   "execution_count": null,
   "id": "5d66ce64-943c-4bf0-8340-9a5b6c953c73",
   "metadata": {},
   "outputs": [],
   "source": []
  }
 ],
 "metadata": {
  "kernelspec": {
   "display_name": "Python 3 (ipykernel)",
   "language": "python",
   "name": "python3"
  },
  "language_info": {
   "codemirror_mode": {
    "name": "ipython",
    "version": 3
   },
   "file_extension": ".py",
   "mimetype": "text/x-python",
   "name": "python",
   "nbconvert_exporter": "python",
   "pygments_lexer": "ipython3",
   "version": "3.12.6"
  }
 },
 "nbformat": 4,
 "nbformat_minor": 5
}

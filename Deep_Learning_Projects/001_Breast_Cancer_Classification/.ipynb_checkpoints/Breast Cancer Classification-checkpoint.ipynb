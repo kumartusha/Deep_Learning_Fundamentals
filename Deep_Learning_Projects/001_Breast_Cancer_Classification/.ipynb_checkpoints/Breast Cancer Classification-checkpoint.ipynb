{
 "cells": [
  {
   "cell_type": "markdown",
   "id": "2d58ad8a-47c0-456e-ba1c-564de2798cf3",
   "metadata": {},
   "source": [
    "# Breast Cancer Classification"
   ]
  },
  {
   "cell_type": "code",
   "execution_count": 13,
   "id": "91aeff65-34a3-4510-a78f-173ad2e8492f",
   "metadata": {},
   "outputs": [],
   "source": [
    "import numpy as np\n",
    "import pandas as pd\n",
    "import matplotlib.pyplot as plt\n",
    "import seaborn as sns\n",
    "import sklearn.datasets\n",
    "from sklearn.model_selection import train_test_split"
   ]
  },
  {
   "cell_type": "code",
   "execution_count": null,
   "id": "e7441080-6509-48b4-9c23-fc6df802a0ac",
   "metadata": {},
   "outputs": [],
   "source": []
  },
  {
   "cell_type": "markdown",
   "id": "2eb49c4e-11de-4cc3-8fa3-c0a9668d3ada",
   "metadata": {},
   "source": [
    "## Data Collection and Processing."
   ]
  },
  {
   "cell_type": "code",
   "execution_count": 14,
   "id": "b89e7e2d-c3c3-4cf1-b2d7-23af80bf4555",
   "metadata": {},
   "outputs": [],
   "source": [
    "dataset = sklearn.datasets.load_breast_cancer()"
   ]
  },
  {
   "cell_type": "code",
   "execution_count": 15,
   "id": "fd88f1d6-6f98-40ea-a994-6684ef6be426",
   "metadata": {},
   "outputs": [],
   "source": [
    "# print(dataset)"
   ]
  },
  {
   "cell_type": "code",
   "execution_count": null,
   "id": "5377e68f-7ee2-469f-b0f6-45eb8252d62e",
   "metadata": {},
   "outputs": [],
   "source": []
  },
  {
   "cell_type": "code",
   "execution_count": 20,
   "id": "b2e0171f-9d31-4e90-aaa6-a180b711321c",
   "metadata": {},
   "outputs": [
    {
     "data": {
      "text/html": [
       "<div>\n",
       "<style scoped>\n",
       "    .dataframe tbody tr th:only-of-type {\n",
       "        vertical-align: middle;\n",
       "    }\n",
       "\n",
       "    .dataframe tbody tr th {\n",
       "        vertical-align: top;\n",
       "    }\n",
       "\n",
       "    .dataframe thead th {\n",
       "        text-align: right;\n",
       "    }\n",
       "</style>\n",
       "<table border=\"1\" class=\"dataframe\">\n",
       "  <thead>\n",
       "    <tr style=\"text-align: right;\">\n",
       "      <th></th>\n",
       "      <th>mean radius</th>\n",
       "      <th>mean texture</th>\n",
       "      <th>mean perimeter</th>\n",
       "      <th>mean area</th>\n",
       "      <th>mean smoothness</th>\n",
       "      <th>mean compactness</th>\n",
       "      <th>mean concavity</th>\n",
       "      <th>mean concave points</th>\n",
       "      <th>mean symmetry</th>\n",
       "      <th>mean fractal dimension</th>\n",
       "      <th>radius error</th>\n",
       "      <th>texture error</th>\n",
       "      <th>perimeter error</th>\n",
       "      <th>area error</th>\n",
       "      <th>smoothness error</th>\n",
       "      <th>compactness error</th>\n",
       "      <th>concavity error</th>\n",
       "      <th>concave points error</th>\n",
       "      <th>symmetry error</th>\n",
       "      <th>fractal dimension error</th>\n",
       "      <th>worst radius</th>\n",
       "      <th>worst texture</th>\n",
       "      <th>worst perimeter</th>\n",
       "      <th>worst area</th>\n",
       "      <th>worst smoothness</th>\n",
       "      <th>worst compactness</th>\n",
       "      <th>worst concavity</th>\n",
       "      <th>worst concave points</th>\n",
       "      <th>worst symmetry</th>\n",
       "      <th>worst fractal dimension</th>\n",
       "    </tr>\n",
       "  </thead>\n",
       "  <tbody>\n",
       "    <tr>\n",
       "      <th>0</th>\n",
       "      <td>17.99</td>\n",
       "      <td>10.38</td>\n",
       "      <td>122.80</td>\n",
       "      <td>1001.0</td>\n",
       "      <td>0.11840</td>\n",
       "      <td>0.27760</td>\n",
       "      <td>0.3001</td>\n",
       "      <td>0.14710</td>\n",
       "      <td>0.2419</td>\n",
       "      <td>0.07871</td>\n",
       "      <td>1.0950</td>\n",
       "      <td>0.9053</td>\n",
       "      <td>8.589</td>\n",
       "      <td>153.40</td>\n",
       "      <td>0.006399</td>\n",
       "      <td>0.04904</td>\n",
       "      <td>0.05373</td>\n",
       "      <td>0.01587</td>\n",
       "      <td>0.03003</td>\n",
       "      <td>0.006193</td>\n",
       "      <td>25.38</td>\n",
       "      <td>17.33</td>\n",
       "      <td>184.60</td>\n",
       "      <td>2019.0</td>\n",
       "      <td>0.1622</td>\n",
       "      <td>0.6656</td>\n",
       "      <td>0.7119</td>\n",
       "      <td>0.2654</td>\n",
       "      <td>0.4601</td>\n",
       "      <td>0.11890</td>\n",
       "    </tr>\n",
       "    <tr>\n",
       "      <th>1</th>\n",
       "      <td>20.57</td>\n",
       "      <td>17.77</td>\n",
       "      <td>132.90</td>\n",
       "      <td>1326.0</td>\n",
       "      <td>0.08474</td>\n",
       "      <td>0.07864</td>\n",
       "      <td>0.0869</td>\n",
       "      <td>0.07017</td>\n",
       "      <td>0.1812</td>\n",
       "      <td>0.05667</td>\n",
       "      <td>0.5435</td>\n",
       "      <td>0.7339</td>\n",
       "      <td>3.398</td>\n",
       "      <td>74.08</td>\n",
       "      <td>0.005225</td>\n",
       "      <td>0.01308</td>\n",
       "      <td>0.01860</td>\n",
       "      <td>0.01340</td>\n",
       "      <td>0.01389</td>\n",
       "      <td>0.003532</td>\n",
       "      <td>24.99</td>\n",
       "      <td>23.41</td>\n",
       "      <td>158.80</td>\n",
       "      <td>1956.0</td>\n",
       "      <td>0.1238</td>\n",
       "      <td>0.1866</td>\n",
       "      <td>0.2416</td>\n",
       "      <td>0.1860</td>\n",
       "      <td>0.2750</td>\n",
       "      <td>0.08902</td>\n",
       "    </tr>\n",
       "    <tr>\n",
       "      <th>2</th>\n",
       "      <td>19.69</td>\n",
       "      <td>21.25</td>\n",
       "      <td>130.00</td>\n",
       "      <td>1203.0</td>\n",
       "      <td>0.10960</td>\n",
       "      <td>0.15990</td>\n",
       "      <td>0.1974</td>\n",
       "      <td>0.12790</td>\n",
       "      <td>0.2069</td>\n",
       "      <td>0.05999</td>\n",
       "      <td>0.7456</td>\n",
       "      <td>0.7869</td>\n",
       "      <td>4.585</td>\n",
       "      <td>94.03</td>\n",
       "      <td>0.006150</td>\n",
       "      <td>0.04006</td>\n",
       "      <td>0.03832</td>\n",
       "      <td>0.02058</td>\n",
       "      <td>0.02250</td>\n",
       "      <td>0.004571</td>\n",
       "      <td>23.57</td>\n",
       "      <td>25.53</td>\n",
       "      <td>152.50</td>\n",
       "      <td>1709.0</td>\n",
       "      <td>0.1444</td>\n",
       "      <td>0.4245</td>\n",
       "      <td>0.4504</td>\n",
       "      <td>0.2430</td>\n",
       "      <td>0.3613</td>\n",
       "      <td>0.08758</td>\n",
       "    </tr>\n",
       "    <tr>\n",
       "      <th>3</th>\n",
       "      <td>11.42</td>\n",
       "      <td>20.38</td>\n",
       "      <td>77.58</td>\n",
       "      <td>386.1</td>\n",
       "      <td>0.14250</td>\n",
       "      <td>0.28390</td>\n",
       "      <td>0.2414</td>\n",
       "      <td>0.10520</td>\n",
       "      <td>0.2597</td>\n",
       "      <td>0.09744</td>\n",
       "      <td>0.4956</td>\n",
       "      <td>1.1560</td>\n",
       "      <td>3.445</td>\n",
       "      <td>27.23</td>\n",
       "      <td>0.009110</td>\n",
       "      <td>0.07458</td>\n",
       "      <td>0.05661</td>\n",
       "      <td>0.01867</td>\n",
       "      <td>0.05963</td>\n",
       "      <td>0.009208</td>\n",
       "      <td>14.91</td>\n",
       "      <td>26.50</td>\n",
       "      <td>98.87</td>\n",
       "      <td>567.7</td>\n",
       "      <td>0.2098</td>\n",
       "      <td>0.8663</td>\n",
       "      <td>0.6869</td>\n",
       "      <td>0.2575</td>\n",
       "      <td>0.6638</td>\n",
       "      <td>0.17300</td>\n",
       "    </tr>\n",
       "    <tr>\n",
       "      <th>4</th>\n",
       "      <td>20.29</td>\n",
       "      <td>14.34</td>\n",
       "      <td>135.10</td>\n",
       "      <td>1297.0</td>\n",
       "      <td>0.10030</td>\n",
       "      <td>0.13280</td>\n",
       "      <td>0.1980</td>\n",
       "      <td>0.10430</td>\n",
       "      <td>0.1809</td>\n",
       "      <td>0.05883</td>\n",
       "      <td>0.7572</td>\n",
       "      <td>0.7813</td>\n",
       "      <td>5.438</td>\n",
       "      <td>94.44</td>\n",
       "      <td>0.011490</td>\n",
       "      <td>0.02461</td>\n",
       "      <td>0.05688</td>\n",
       "      <td>0.01885</td>\n",
       "      <td>0.01756</td>\n",
       "      <td>0.005115</td>\n",
       "      <td>22.54</td>\n",
       "      <td>16.67</td>\n",
       "      <td>152.20</td>\n",
       "      <td>1575.0</td>\n",
       "      <td>0.1374</td>\n",
       "      <td>0.2050</td>\n",
       "      <td>0.4000</td>\n",
       "      <td>0.1625</td>\n",
       "      <td>0.2364</td>\n",
       "      <td>0.07678</td>\n",
       "    </tr>\n",
       "  </tbody>\n",
       "</table>\n",
       "</div>"
      ],
      "text/plain": [
       "   mean radius  mean texture  mean perimeter  ...  worst concave points  worst symmetry  worst fractal dimension\n",
       "0        17.99         10.38          122.80  ...                0.2654          0.4601                  0.11890\n",
       "1        20.57         17.77          132.90  ...                0.1860          0.2750                  0.08902\n",
       "2        19.69         21.25          130.00  ...                0.2430          0.3613                  0.08758\n",
       "3        11.42         20.38           77.58  ...                0.2575          0.6638                  0.17300\n",
       "4        20.29         14.34          135.10  ...                0.1625          0.2364                  0.07678\n",
       "\n",
       "[5 rows x 30 columns]"
      ]
     },
     "execution_count": 20,
     "metadata": {},
     "output_type": "execute_result"
    }
   ],
   "source": [
    "# loading the data to a data frame\n",
    "data_frame = pd.DataFrame(dataset.data, columns = dataset.feature_names)\n",
    "# print the first 5 rows of the dataframe\n",
    "data_frame.head()"
   ]
  },
  {
   "cell_type": "code",
   "execution_count": null,
   "id": "209e5fe7-afe6-4d66-a527-0702e99b3d0a",
   "metadata": {},
   "outputs": [],
   "source": []
  },
  {
   "cell_type": "code",
   "execution_count": 22,
   "id": "cf86e765-d487-4f31-bfa4-902646eb331b",
   "metadata": {},
   "outputs": [
    {
     "name": "stdout",
     "output_type": "stream",
     "text": [
      "<class 'pandas.core.frame.DataFrame'>\n",
      "RangeIndex: 569 entries, 0 to 568\n",
      "Data columns (total 31 columns):\n",
      " #   Column                   Non-Null Count  Dtype  \n",
      "---  ------                   --------------  -----  \n",
      " 0   mean radius              569 non-null    float64\n",
      " 1   mean texture             569 non-null    float64\n",
      " 2   mean perimeter           569 non-null    float64\n",
      " 3   mean area                569 non-null    float64\n",
      " 4   mean smoothness          569 non-null    float64\n",
      " 5   mean compactness         569 non-null    float64\n",
      " 6   mean concavity           569 non-null    float64\n",
      " 7   mean concave points      569 non-null    float64\n",
      " 8   mean symmetry            569 non-null    float64\n",
      " 9   mean fractal dimension   569 non-null    float64\n",
      " 10  radius error             569 non-null    float64\n",
      " 11  texture error            569 non-null    float64\n",
      " 12  perimeter error          569 non-null    float64\n",
      " 13  area error               569 non-null    float64\n",
      " 14  smoothness error         569 non-null    float64\n",
      " 15  compactness error        569 non-null    float64\n",
      " 16  concavity error          569 non-null    float64\n",
      " 17  concave points error     569 non-null    float64\n",
      " 18  symmetry error           569 non-null    float64\n",
      " 19  fractal dimension error  569 non-null    float64\n",
      " 20  worst radius             569 non-null    float64\n",
      " 21  worst texture            569 non-null    float64\n",
      " 22  worst perimeter          569 non-null    float64\n",
      " 23  worst area               569 non-null    float64\n",
      " 24  worst smoothness         569 non-null    float64\n",
      " 25  worst compactness        569 non-null    float64\n",
      " 26  worst concavity          569 non-null    float64\n",
      " 27  worst concave points     569 non-null    float64\n",
      " 28  worst symmetry           569 non-null    float64\n",
      " 29  worst fractal dimension  569 non-null    float64\n",
      " 30  label                    569 non-null    int32  \n",
      "dtypes: float64(30), int32(1)\n",
      "memory usage: 135.7 KB\n"
     ]
    },
    {
     "data": {
      "text/plain": [
       "label\n",
       "1    357\n",
       "0    212\n",
       "Name: count, dtype: int64"
      ]
     },
     "execution_count": 22,
     "metadata": {},
     "output_type": "execute_result"
    }
   ],
   "source": [
    "# adding the 'target' column to the data frame\n",
    "data_frame['label'] = dataset.target\n",
    "\n",
    "# print last 5 rows of the dataframe\n",
    "data_frame.tail()\n",
    "\n",
    "# number of rows and columns in the dataset\n",
    "data_frame.shape\n",
    "\n",
    "# getting some information about the data\n",
    "data_frame.info()\n",
    "\n",
    "# checking for missing values\n",
    "data_frame.isnull().sum()\n",
    "\n",
    "# statistical measures about the data\n",
    "data_frame.describe()\n",
    "\n",
    "# checking the distribution of Target Varibale\n",
    "data_frame['label'].value_counts()"
   ]
  },
  {
   "cell_type": "code",
   "execution_count": null,
   "id": "389a1e1b-41b1-4e96-bd69-7aa728b96953",
   "metadata": {},
   "outputs": [],
   "source": []
  },
  {
   "cell_type": "code",
   "execution_count": 49,
   "id": "bc479ea3-8345-40aa-93bd-c598bd7f69b0",
   "metadata": {},
   "outputs": [
    {
     "data": {
      "text/html": [
       "<div>\n",
       "<style scoped>\n",
       "    .dataframe tbody tr th:only-of-type {\n",
       "        vertical-align: middle;\n",
       "    }\n",
       "\n",
       "    .dataframe tbody tr th {\n",
       "        vertical-align: top;\n",
       "    }\n",
       "\n",
       "    .dataframe thead th {\n",
       "        text-align: right;\n",
       "    }\n",
       "</style>\n",
       "<table border=\"1\" class=\"dataframe\">\n",
       "  <thead>\n",
       "    <tr style=\"text-align: right;\">\n",
       "      <th></th>\n",
       "      <th>mean radius</th>\n",
       "      <th>mean texture</th>\n",
       "      <th>mean perimeter</th>\n",
       "      <th>mean area</th>\n",
       "      <th>mean smoothness</th>\n",
       "      <th>mean compactness</th>\n",
       "      <th>mean concavity</th>\n",
       "      <th>mean concave points</th>\n",
       "      <th>mean symmetry</th>\n",
       "      <th>mean fractal dimension</th>\n",
       "      <th>radius error</th>\n",
       "      <th>texture error</th>\n",
       "      <th>perimeter error</th>\n",
       "      <th>area error</th>\n",
       "      <th>smoothness error</th>\n",
       "      <th>compactness error</th>\n",
       "      <th>concavity error</th>\n",
       "      <th>concave points error</th>\n",
       "      <th>symmetry error</th>\n",
       "      <th>fractal dimension error</th>\n",
       "      <th>worst radius</th>\n",
       "      <th>worst texture</th>\n",
       "      <th>worst perimeter</th>\n",
       "      <th>worst area</th>\n",
       "      <th>worst smoothness</th>\n",
       "      <th>worst compactness</th>\n",
       "      <th>worst concavity</th>\n",
       "      <th>worst concave points</th>\n",
       "      <th>worst symmetry</th>\n",
       "      <th>worst fractal dimension</th>\n",
       "    </tr>\n",
       "    <tr>\n",
       "      <th>label</th>\n",
       "      <th></th>\n",
       "      <th></th>\n",
       "      <th></th>\n",
       "      <th></th>\n",
       "      <th></th>\n",
       "      <th></th>\n",
       "      <th></th>\n",
       "      <th></th>\n",
       "      <th></th>\n",
       "      <th></th>\n",
       "      <th></th>\n",
       "      <th></th>\n",
       "      <th></th>\n",
       "      <th></th>\n",
       "      <th></th>\n",
       "      <th></th>\n",
       "      <th></th>\n",
       "      <th></th>\n",
       "      <th></th>\n",
       "      <th></th>\n",
       "      <th></th>\n",
       "      <th></th>\n",
       "      <th></th>\n",
       "      <th></th>\n",
       "      <th></th>\n",
       "      <th></th>\n",
       "      <th></th>\n",
       "      <th></th>\n",
       "      <th></th>\n",
       "      <th></th>\n",
       "    </tr>\n",
       "  </thead>\n",
       "  <tbody>\n",
       "    <tr>\n",
       "      <th>0</th>\n",
       "      <td>17.462830</td>\n",
       "      <td>21.604906</td>\n",
       "      <td>115.365377</td>\n",
       "      <td>978.376415</td>\n",
       "      <td>0.102898</td>\n",
       "      <td>0.145188</td>\n",
       "      <td>0.160775</td>\n",
       "      <td>0.087990</td>\n",
       "      <td>0.192909</td>\n",
       "      <td>0.062680</td>\n",
       "      <td>0.609083</td>\n",
       "      <td>1.210915</td>\n",
       "      <td>4.323929</td>\n",
       "      <td>72.672406</td>\n",
       "      <td>0.006780</td>\n",
       "      <td>0.032281</td>\n",
       "      <td>0.041824</td>\n",
       "      <td>0.015060</td>\n",
       "      <td>0.020472</td>\n",
       "      <td>0.004062</td>\n",
       "      <td>21.134811</td>\n",
       "      <td>29.318208</td>\n",
       "      <td>141.370330</td>\n",
       "      <td>1422.286321</td>\n",
       "      <td>0.144845</td>\n",
       "      <td>0.374824</td>\n",
       "      <td>0.450606</td>\n",
       "      <td>0.182237</td>\n",
       "      <td>0.323468</td>\n",
       "      <td>0.091530</td>\n",
       "    </tr>\n",
       "    <tr>\n",
       "      <th>1</th>\n",
       "      <td>12.146524</td>\n",
       "      <td>17.914762</td>\n",
       "      <td>78.075406</td>\n",
       "      <td>462.790196</td>\n",
       "      <td>0.092478</td>\n",
       "      <td>0.080085</td>\n",
       "      <td>0.046058</td>\n",
       "      <td>0.025717</td>\n",
       "      <td>0.174186</td>\n",
       "      <td>0.062867</td>\n",
       "      <td>0.284082</td>\n",
       "      <td>1.220380</td>\n",
       "      <td>2.000321</td>\n",
       "      <td>21.135148</td>\n",
       "      <td>0.007196</td>\n",
       "      <td>0.021438</td>\n",
       "      <td>0.025997</td>\n",
       "      <td>0.009858</td>\n",
       "      <td>0.020584</td>\n",
       "      <td>0.003636</td>\n",
       "      <td>13.379801</td>\n",
       "      <td>23.515070</td>\n",
       "      <td>87.005938</td>\n",
       "      <td>558.899440</td>\n",
       "      <td>0.124959</td>\n",
       "      <td>0.182673</td>\n",
       "      <td>0.166238</td>\n",
       "      <td>0.074444</td>\n",
       "      <td>0.270246</td>\n",
       "      <td>0.079442</td>\n",
       "    </tr>\n",
       "  </tbody>\n",
       "</table>\n",
       "</div>"
      ],
      "text/plain": [
       "       mean radius  mean texture  mean perimeter  ...  worst concave points  worst symmetry  worst fractal dimension\n",
       "label                                             ...                                                               \n",
       "0        17.462830     21.604906      115.365377  ...              0.182237        0.323468                 0.091530\n",
       "1        12.146524     17.914762       78.075406  ...              0.074444        0.270246                 0.079442\n",
       "\n",
       "[2 rows x 30 columns]"
      ]
     },
     "execution_count": 49,
     "metadata": {},
     "output_type": "execute_result"
    }
   ],
   "source": [
    "# 1 --> Benign\n",
    "\n",
    "# 0 --> Malignant\n",
    "\n",
    "data_frame.groupby('label').mean()"
   ]
  },
  {
   "cell_type": "code",
   "execution_count": 1,
   "id": "e8aa5de4-d6bb-441f-9d6f-57f3e1b5991a",
   "metadata": {},
   "outputs": [
    {
     "ename": "NameError",
     "evalue": "name 'data_frame' is not defined",
     "output_type": "error",
     "traceback": [
      "\u001b[1;31m---------------------------------------------------------------------------\u001b[0m",
      "\u001b[1;31mNameError\u001b[0m                                 Traceback (most recent call last)",
      "Cell \u001b[1;32mIn[1], line 2\u001b[0m\n\u001b[0;32m      1\u001b[0m \u001b[38;5;66;03m# Separating the features into the dependent and the independent variable.\u001b[39;00m\n\u001b[1;32m----> 2\u001b[0m X \u001b[38;5;241m=\u001b[39m \u001b[43mdata_frame\u001b[49m\u001b[38;5;241m.\u001b[39mdrop(columns\u001b[38;5;241m=\u001b[39m\u001b[38;5;124m'\u001b[39m\u001b[38;5;124mlabel\u001b[39m\u001b[38;5;124m'\u001b[39m, axis\u001b[38;5;241m=\u001b[39m\u001b[38;5;241m1\u001b[39m)\n\u001b[0;32m      3\u001b[0m Y \u001b[38;5;241m=\u001b[39m data_frame[\u001b[38;5;124m'\u001b[39m\u001b[38;5;124mlabel\u001b[39m\u001b[38;5;124m'\u001b[39m]\n\u001b[0;32m      5\u001b[0m \u001b[38;5;28mprint\u001b[39m(X)\n",
      "\u001b[1;31mNameError\u001b[0m: name 'data_frame' is not defined"
     ]
    }
   ],
   "source": [
    "# Separating the features into the dependent and the independent variable.\n",
    "X = data_frame.drop(columns='label', axis=1)\n",
    "Y = data_frame['label']\n",
    "\n",
    "print(X)\n",
    "\n",
    "print(Y)"
   ]
  },
  {
   "cell_type": "code",
   "execution_count": null,
   "id": "641544fa-82d3-49fd-afc9-fb6d7216468e",
   "metadata": {},
   "outputs": [],
   "source": []
  },
  {
   "cell_type": "markdown",
   "id": "67cac175-4db4-44db-bea0-cdeb2e572024",
   "metadata": {},
   "source": [
    "## Splitting the data into training data & Testing data"
   ]
  },
  {
   "cell_type": "code",
   "execution_count": 26,
   "id": "f5a829b9-d6cc-4e77-9238-cbfe846af8ce",
   "metadata": {},
   "outputs": [
    {
     "name": "stdout",
     "output_type": "stream",
     "text": [
      "(569, 30) (455, 30) (114, 30)\n"
     ]
    }
   ],
   "source": [
    "X_train, X_test, Y_train, Y_test = train_test_split(X, Y, test_size=0.2, random_state=2)\n",
    "\n",
    "print(X.shape, X_train.shape, X_test.shape)"
   ]
  },
  {
   "cell_type": "code",
   "execution_count": null,
   "id": "bca1cdd2-2937-4afc-92c4-3b43f37c8ca4",
   "metadata": {},
   "outputs": [],
   "source": []
  },
  {
   "cell_type": "markdown",
   "id": "6a40654a-e4e9-4bd0-b187-721f77d4ca80",
   "metadata": {},
   "source": [
    "## Standardize the data\n",
    "This is the important step for the deep learning model to maximise the accuracy of the model."
   ]
  },
  {
   "cell_type": "code",
   "execution_count": 50,
   "id": "513c88f0-f10b-42cf-ac2f-08fd10518f1f",
   "metadata": {},
   "outputs": [],
   "source": [
    "from sklearn.preprocessing import StandardScaler\n",
    "\n",
    "scaler = StandardScaler()\n",
    "\n",
    "X_train_std = scaler.fit_transform(X_train)\n",
    "\n",
    "X_test_std = scaler.transform(X_test)"
   ]
  },
  {
   "cell_type": "code",
   "execution_count": null,
   "id": "baecdf3c-e469-402f-9295-c6e7eeb7db28",
   "metadata": {},
   "outputs": [],
   "source": []
  },
  {
   "cell_type": "markdown",
   "id": "0c47d2b4-0ff5-4286-b1e4-2b990e9df81e",
   "metadata": {},
   "source": [
    "## Building the Neural Network"
   ]
  },
  {
   "cell_type": "code",
   "execution_count": 146,
   "id": "aff55092-6973-478e-a387-5368d2e57b32",
   "metadata": {},
   "outputs": [],
   "source": [
    "# Libraries required for the deep learning model.\n",
    "import tensorflow as tf\n",
    "#  Its just like the random_state \n",
    "tf.random.set_seed(3)\n",
    "from tensorflow import keras\n",
    "from keras.models import Sequential\n",
    "from keras.layers import Dense"
   ]
  },
  {
   "cell_type": "code",
   "execution_count": 147,
   "id": "18d30add-643b-4b10-b293-c917b4135c37",
   "metadata": {},
   "outputs": [
    {
     "name": "stderr",
     "output_type": "stream",
     "text": [
      "C:\\Users\\USER\\AppData\\Local\\Programs\\Python\\Python312\\Lib\\site-packages\\keras\\src\\layers\\reshaping\\flatten.py:37: UserWarning: Do not pass an `input_shape`/`input_dim` argument to a layer. When using Sequential models, prefer using an `Input(shape)` object as the first layer in the model instead.\n",
      "  super().__init__(**kwargs)\n"
     ]
    }
   ],
   "source": [
    "# setting up the layers of neural network.\n",
    "\n",
    "#  First way to do it. ( Pyramid pattern of the neural network is best )\n",
    "model = keras.Sequential([\n",
    "    # use for single dimensional array.f\n",
    "    keras.layers.Flatten(input_shape=(30,)),   # Converts the input data into the 1D vector of corresponding elements\n",
    "    keras.layers.Dense(20, activation=\"relu\"),  # Dense layer with 20 neurons\n",
    "    keras.layers.Dense(10, activation=\"relu\"),    # Dense layer with 10 neurons\n",
    "    keras.layers.Dense(2, activation=\"sigmoid\")    # Output layer with 2classes for classification\n",
    "])\n",
    "\n",
    "#  Second way to do it.\n",
    "# model = Sequential()\n",
    "# model.add(Dense(30, input_dim = 30, activation=\"relu\")\n",
    "# model.add(Dense(20, activation=\"relu\")\n",
    "# model.add(Dense(2, activation=\"sigmoid\")\n",
    "    "
   ]
  },
  {
   "cell_type": "code",
   "execution_count": 148,
   "id": "c9724e1b-8b9e-4f72-8b10-604c4ff1a01c",
   "metadata": {},
   "outputs": [],
   "source": [
    "#  we need to compile that model.\n",
    "model.compile(optimizer='adam', loss = \"sparse_categorical_crossentropy\", metrics = [\"accuracy\"])"
   ]
  },
  {
   "cell_type": "code",
   "execution_count": null,
   "id": "cc6163d3-e75f-48d8-9eb5-a2646d3019f6",
   "metadata": {},
   "outputs": [],
   "source": []
  },
  {
   "cell_type": "code",
   "execution_count": 149,
   "id": "af13fdae-e09b-4fb0-8904-6b889dbf132d",
   "metadata": {},
   "outputs": [
    {
     "name": "stdout",
     "output_type": "stream",
     "text": [
      "Epoch 1/15\n",
      "\u001b[1m12/12\u001b[0m \u001b[32m━━━━━━━━━━━━━━━━━━━━\u001b[0m\u001b[37m\u001b[0m \u001b[1m5s\u001b[0m 116ms/step - accuracy: 0.8658 - loss: 0.4860 - val_accuracy: 0.9011 - val_loss: 0.3832\n",
      "Epoch 2/15\n",
      "\u001b[1m12/12\u001b[0m \u001b[32m━━━━━━━━━━━━━━━━━━━━\u001b[0m\u001b[37m\u001b[0m \u001b[1m0s\u001b[0m 23ms/step - accuracy: 0.9233 - loss: 0.3519 - val_accuracy: 0.9341 - val_loss: 0.2796\n",
      "Epoch 3/15\n",
      "\u001b[1m12/12\u001b[0m \u001b[32m━━━━━━━━━━━━━━━━━━━━\u001b[0m\u001b[37m\u001b[0m \u001b[1m0s\u001b[0m 22ms/step - accuracy: 0.9441 - loss: 0.2691 - val_accuracy: 0.9341 - val_loss: 0.2197\n",
      "Epoch 4/15\n",
      "\u001b[1m12/12\u001b[0m \u001b[32m━━━━━━━━━━━━━━━━━━━━\u001b[0m\u001b[37m\u001b[0m \u001b[1m1s\u001b[0m 22ms/step - accuracy: 0.9482 - loss: 0.2156 - val_accuracy: 0.9231 - val_loss: 0.1828\n",
      "Epoch 5/15\n",
      "\u001b[1m12/12\u001b[0m \u001b[32m━━━━━━━━━━━━━━━━━━━━\u001b[0m\u001b[37m\u001b[0m \u001b[1m0s\u001b[0m 21ms/step - accuracy: 0.9547 - loss: 0.1804 - val_accuracy: 0.9231 - val_loss: 0.1587\n",
      "Epoch 6/15\n",
      "\u001b[1m12/12\u001b[0m \u001b[32m━━━━━━━━━━━━━━━━━━━━\u001b[0m\u001b[37m\u001b[0m \u001b[1m0s\u001b[0m 21ms/step - accuracy: 0.9538 - loss: 0.1560 - val_accuracy: 0.9341 - val_loss: 0.1412\n",
      "Epoch 7/15\n",
      "\u001b[1m12/12\u001b[0m \u001b[32m━━━━━━━━━━━━━━━━━━━━\u001b[0m\u001b[37m\u001b[0m \u001b[1m0s\u001b[0m 21ms/step - accuracy: 0.9586 - loss: 0.1377 - val_accuracy: 0.9560 - val_loss: 0.1279\n",
      "Epoch 8/15\n",
      "\u001b[1m12/12\u001b[0m \u001b[32m━━━━━━━━━━━━━━━━━━━━\u001b[0m\u001b[37m\u001b[0m \u001b[1m0s\u001b[0m 22ms/step - accuracy: 0.9677 - loss: 0.1233 - val_accuracy: 0.9670 - val_loss: 0.1173\n",
      "Epoch 9/15\n",
      "\u001b[1m12/12\u001b[0m \u001b[32m━━━━━━━━━━━━━━━━━━━━\u001b[0m\u001b[37m\u001b[0m \u001b[1m0s\u001b[0m 19ms/step - accuracy: 0.9684 - loss: 0.1120 - val_accuracy: 0.9670 - val_loss: 0.1086\n",
      "Epoch 10/15\n",
      "\u001b[1m12/12\u001b[0m \u001b[32m━━━━━━━━━━━━━━━━━━━━\u001b[0m\u001b[37m\u001b[0m \u001b[1m0s\u001b[0m 20ms/step - accuracy: 0.9799 - loss: 0.1028 - val_accuracy: 0.9560 - val_loss: 0.1020\n",
      "Epoch 11/15\n",
      "\u001b[1m12/12\u001b[0m \u001b[32m━━━━━━━━━━━━━━━━━━━━\u001b[0m\u001b[37m\u001b[0m \u001b[1m0s\u001b[0m 20ms/step - accuracy: 0.9811 - loss: 0.0955 - val_accuracy: 0.9560 - val_loss: 0.0969\n",
      "Epoch 12/15\n",
      "\u001b[1m12/12\u001b[0m \u001b[32m━━━━━━━━━━━━━━━━━━━━\u001b[0m\u001b[37m\u001b[0m \u001b[1m0s\u001b[0m 25ms/step - accuracy: 0.9855 - loss: 0.0894 - val_accuracy: 0.9560 - val_loss: 0.0928\n",
      "Epoch 13/15\n",
      "\u001b[1m12/12\u001b[0m \u001b[32m━━━━━━━━━━━━━━━━━━━━\u001b[0m\u001b[37m\u001b[0m \u001b[1m1s\u001b[0m 23ms/step - accuracy: 0.9855 - loss: 0.0843 - val_accuracy: 0.9560 - val_loss: 0.0895\n",
      "Epoch 14/15\n",
      "\u001b[1m12/12\u001b[0m \u001b[32m━━━━━━━━━━━━━━━━━━━━\u001b[0m\u001b[37m\u001b[0m \u001b[1m0s\u001b[0m 20ms/step - accuracy: 0.9877 - loss: 0.0799 - val_accuracy: 0.9560 - val_loss: 0.0867\n",
      "Epoch 15/15\n",
      "\u001b[1m12/12\u001b[0m \u001b[32m━━━━━━━━━━━━━━━━━━━━\u001b[0m\u001b[37m\u001b[0m \u001b[1m0s\u001b[0m 21ms/step - accuracy: 0.9877 - loss: 0.0760 - val_accuracy: 0.9560 - val_loss: 0.0843\n"
     ]
    }
   ],
   "source": [
    "#  Training the neural network.\n",
    "# model.fit(X_train_std, Y_train, validation_split=0.2,epochs = 10)\n",
    "hist = model.fit(X_train_std, Y_train, validation_split=0.2, epochs=15)"
   ]
  },
  {
   "cell_type": "code",
   "execution_count": null,
   "id": "e3973ffd-f741-41a6-8dc7-40f43730f153",
   "metadata": {},
   "outputs": [],
   "source": []
  },
  {
   "cell_type": "code",
   "execution_count": 150,
   "id": "cb968326-b51d-47f7-8771-40049b8c68ca",
   "metadata": {},
   "outputs": [
    {
     "data": {
      "text/plain": [
       "<matplotlib.legend.Legend at 0x1c989a671a0>"
      ]
     },
     "execution_count": 150,
     "metadata": {},
     "output_type": "execute_result"
    },
    {
     "data": {
      "image/png": "[encoded data removed]",
      "text/plain": [
       "<Figure size 640x480 with 1 Axes>"
      ]
     },
     "metadata": {},
     "output_type": "display_data"
    }
   ],
   "source": [
    "#  Visualizing the accuracy and the loss.\n",
    "plt.plot(hist.history['accuracy'])\n",
    "plt.plot(hist.history['val_accuracy'])\n",
    "\n",
    "plt.title(\"Model Accuracy\")\n",
    "plt.ylabel(\"Accuracy\")\n",
    "plt.xlabel(\"Epoches\")\n",
    "\n",
    "plt.legend([\"Training Data\", \"Validation Data\"], loc = 'lower right')"
   ]
  },
  {
   "cell_type": "code",
   "execution_count": 151,
   "id": "f6001c52-5d17-4d26-84eb-dd7cc7b80436",
   "metadata": {},
   "outputs": [
    {
     "data": {
      "text/plain": [
       "<matplotlib.legend.Legend at 0x1c98a4afd70>"
      ]
     },
     "execution_count": 151,
     "metadata": {},
     "output_type": "execute_result"
    },
    {
     "data": {
      "image/png": "[encoded data removed]",
      "text/plain": [
       "<Figure size 640x480 with 1 Axes>"
      ]
     },
     "metadata": {},
     "output_type": "display_data"
    }
   ],
   "source": [
    "#  Visualizing the loss and the loss.\n",
    "plt.plot(hist.history['loss'])\n",
    "plt.plot(hist.history['val_loss'])\n",
    "\n",
    "plt.title(\"Model Loss\")\n",
    "plt.ylabel(\"Loss\")\n",
    "plt.xlabel(\"Epoches\")\n",
    "\n",
    "plt.legend([\"Training Data\", \"Validation Data\"], loc = 'lower right')"
   ]
  },
  {
   "cell_type": "code",
   "execution_count": null,
   "id": "f1c607b9-02cc-4304-8878-838ec34762d9",
   "metadata": {},
   "outputs": [],
   "source": []
  },
  {
   "cell_type": "code",
   "execution_count": 156,
   "id": "5048134f-f028-4b1b-9e99-4dd492243668",
   "metadata": {},
   "outputs": [
    {
     "name": "stdout",
     "output_type": "stream",
     "text": [
      "\u001b[1m4/4\u001b[0m \u001b[32m━━━━━━━━━━━━━━━━━━━━\u001b[0m\u001b[37m\u001b[0m \u001b[1m0s\u001b[0m 24ms/step - accuracy: 0.9770 - loss: 0.0837\n"
     ]
    },
    {
     "data": {
      "text/plain": [
       "[0.08526414632797241, 0.9736841917037964]"
      ]
     },
     "execution_count": 156,
     "metadata": {},
     "output_type": "execute_result"
    }
   ],
   "source": [
    "# loss, accuracy = model.evaluate(X_test_std, Y_test)\n",
    "model.evaluate(X_test_std, Y_test)"
   ]
  },
  {
   "cell_type": "code",
   "execution_count": null,
   "id": "4530b6b1-72cc-497f-8a52-14751a9eafea",
   "metadata": {},
   "outputs": [],
   "source": []
  },
  {
   "cell_type": "code",
   "execution_count": null,
   "id": "b2e42994-fee4-4857-996f-fe775121a9ca",
   "metadata": {},
   "outputs": [],
   "source": []
  },
  {
   "cell_type": "code",
   "execution_count": 157,
   "id": "55a1f050-fba8-44fc-874d-87f92505894f",
   "metadata": {},
   "outputs": [
    {
     "name": "stdout",
     "output_type": "stream",
     "text": [
      "\u001b[1m4/4\u001b[0m \u001b[32m━━━━━━━━━━━━━━━━━━━━\u001b[0m\u001b[37m\u001b[0m \u001b[1m0s\u001b[0m 54ms/step\n"
     ]
    }
   ],
   "source": [
    "# Thers is a different kind of the predictive system in the deep learning.\n",
    "y_test_pred = model.predict(X_test_std)                                   "
   ]
  },
  {
   "cell_type": "code",
   "execution_count": 160,
   "id": "ce028e76-6fec-4e8a-a807-94c537f524a3",
   "metadata": {},
   "outputs": [
    {
     "name": "stdout",
     "output_type": "stream",
     "text": [
      "[[2.0653738e-01 7.5832617e-01]\n",
      " [3.5200480e-01 5.3699386e-01]\n",
      " [2.3942718e-03 9.0567338e-01]\n",
      " [9.9991596e-01 6.8935787e-04]\n",
      " [3.7953794e-01 5.9011805e-01]\n",
      " [9.9459362e-01 1.3806357e-02]\n",
      " [1.6189465e-01 6.9589394e-01]\n",
      " [2.1891354e-03 8.9605057e-01]\n",
      " [2.4217816e-02 7.7989590e-01]\n",
      " [7.4387654e-03 7.9348326e-01]\n",
      " [5.2323020e-01 3.5616484e-01]\n",
      " [3.7705008e-02 7.2235543e-01]\n",
      " [4.2966306e-02 6.4140308e-01]\n",
      " [9.2279568e-02 5.7761514e-01]\n",
      " [8.4042102e-03 8.5671085e-01]\n",
      " [9.2571217e-01 1.5836400e-01]\n",
      " [3.5076593e-03 8.7565541e-01]\n",
      " [1.1256030e-02 9.4825023e-01]\n",
      " [1.3419577e-02 8.3695412e-01]\n",
      " [9.8276079e-01 3.4971923e-02]\n",
      " [4.3800581e-01 9.9555779e-01]\n",
      " [7.1993610e-03 9.1363704e-01]\n",
      " [1.2285750e-02 8.6542714e-01]\n",
      " [4.7323965e-03 8.8720822e-01]\n",
      " [7.7933691e-02 7.8251958e-01]\n",
      " [9.7201556e-01 5.2011177e-02]\n",
      " [7.1387112e-02 7.7798909e-01]\n",
      " [2.2326131e-01 6.3184029e-01]\n",
      " [9.6899503e-01 6.9684729e-02]\n",
      " [9.7493136e-01 5.8336224e-02]\n",
      " [1.5603585e-02 7.7953607e-01]\n",
      " [2.9418120e-02 7.3105419e-01]\n",
      " [1.1092510e-02 9.1666240e-01]\n",
      " [9.9979901e-01 9.8059059e-04]\n",
      " [9.9253023e-01 2.3606626e-02]\n",
      " [8.2546741e-02 9.3655682e-01]\n",
      " [1.4518955e-03 8.7853235e-01]\n",
      " [8.1036985e-02 5.4907370e-01]\n",
      " [7.1752584e-03 8.9021230e-01]\n",
      " [1.6105965e-02 7.6009136e-01]\n",
      " [9.9963862e-01 2.2753433e-03]\n",
      " [8.5382354e-01 1.9600768e-01]\n",
      " [6.4890590e-03 7.9257822e-01]\n",
      " [1.9124519e-02 9.5677966e-01]\n",
      " [8.8220966e-01 1.6430128e-01]\n",
      " [1.4007196e-02 8.7221181e-01]\n",
      " [1.7893746e-03 9.2991692e-01]\n",
      " [5.3652474e-03 8.6520064e-01]\n",
      " [9.9925679e-01 3.6285475e-03]\n",
      " [9.6381092e-01 7.6397255e-02]\n",
      " [6.6619152e-03 8.3420247e-01]\n",
      " [8.5825276e-01 1.9416733e-01]\n",
      " [3.0674031e-01 4.3167633e-01]\n",
      " [1.0120935e-02 7.8858232e-01]\n",
      " [8.4088612e-03 8.9872682e-01]\n",
      " [3.0796117e-01 5.8461452e-01]\n",
      " [3.4480747e-02 7.8328764e-01]\n",
      " [4.4319825e-03 9.1579127e-01]\n",
      " [9.4247210e-01 1.7661291e-01]\n",
      " [2.7821049e-02 8.8762414e-01]\n",
      " [1.5266006e-01 6.0401011e-01]\n",
      " [9.3688858e-01 1.0913908e-01]\n",
      " [8.4839994e-03 8.4506637e-01]\n",
      " [9.8282540e-01 5.0639801e-02]\n",
      " [9.5893818e-01 7.0292145e-02]\n",
      " [6.4729798e-01 8.9730340e-01]\n",
      " [9.9733609e-01 1.0092469e-02]\n",
      " [9.6445149e-01 7.7938765e-02]\n",
      " [8.1958771e-02 3.2571128e-01]\n",
      " [6.1622685e-01 5.2393353e-01]\n",
      " [8.9460820e-01 2.4169235e-01]\n",
      " [9.6636099e-01 7.9378039e-02]\n",
      " [2.9858204e-02 7.5547266e-01]\n",
      " [8.6890495e-01 1.8326963e-01]\n",
      " [2.0302276e-03 9.1035044e-01]\n",
      " [8.6524117e-01 2.0345552e-01]\n",
      " [1.5942648e-02 8.2288337e-01]\n",
      " [3.8801082e-03 8.7814957e-01]\n",
      " [7.8391403e-02 4.6928939e-01]\n",
      " [8.3444047e-01 2.1385966e-01]\n",
      " [9.8255455e-01 5.5726588e-02]\n",
      " [8.9684433e-01 2.1775183e-01]\n",
      " [9.8043627e-01 4.6985507e-02]\n",
      " [1.5736583e-01 8.3839357e-01]\n",
      " [3.6622092e-02 7.2916681e-01]\n",
      " [3.6365998e-01 2.2522950e-01]\n",
      " [5.2449465e-02 9.9501979e-01]\n",
      " [1.9813204e-02 8.8296127e-01]\n",
      " [7.7779151e-02 8.3949059e-01]\n",
      " [9.9255055e-01 1.7531414e-02]\n",
      " [2.1273918e-02 8.7773073e-01]\n",
      " [4.5094542e-02 6.8771845e-01]\n",
      " [1.0766641e-02 9.8742503e-01]\n",
      " [9.6758288e-01 7.9157367e-02]\n",
      " [8.8900989e-01 1.5780547e-01]\n",
      " [6.0822558e-02 7.4143863e-01]\n",
      " [9.9462253e-01 1.8399321e-02]\n",
      " [9.7701782e-01 5.7500072e-02]\n",
      " [4.5531321e-02 6.3980079e-01]\n",
      " [1.5118123e-03 9.0982538e-01]\n",
      " [7.5731566e-04 9.4527256e-01]\n",
      " [7.1288133e-01 3.2816780e-01]\n",
      " [9.9939317e-01 2.7114309e-03]\n",
      " [9.9870396e-01 5.6747468e-03]\n",
      " [5.0227210e-02 7.4949527e-01]\n",
      " [3.7442357e-03 9.4972634e-01]\n",
      " [9.5718593e-04 9.9519783e-01]\n",
      " [6.1947424e-03 9.5601916e-01]\n",
      " [2.4855073e-04 9.7982013e-01]\n",
      " [7.2666049e-02 4.4544131e-01]\n",
      " [9.9572897e-01 1.5107199e-02]\n",
      " [9.9312633e-01 1.8464174e-02]\n",
      " [4.0283096e-01 2.6801285e-01]\n",
      " [9.4320649e-01 1.0392830e-01]]\n"
     ]
    }
   ],
   "source": [
    "# print(y_test_pred.shape)\n",
    "# print(y_test_pred[0])\n",
    "\n",
    "#  It will return the probability for coming the 0 or the 1."
   ]
  },
  {
   "cell_type": "code",
   "execution_count": 162,
   "id": "aa3fa6a3-6a12-4506-82f6-dbc051266e26",
   "metadata": {},
   "outputs": [
    {
     "name": "stdout",
     "output_type": "stream",
     "text": [
      "(114, 30)\n",
      "(114, 2)\n"
     ]
    }
   ],
   "source": [
    "print(X_test_std.shape)\n",
    "print(y_test_pred.shape)"
   ]
  },
  {
   "cell_type": "code",
   "execution_count": 164,
   "id": "5a1acd6b-7ab1-4bbf-8ae6-ed8c81360fef",
   "metadata": {},
   "outputs": [
    {
     "name": "stdout",
     "output_type": "stream",
     "text": [
      "[1, 1, 1, 0, 1, 0, 1, 1, 1, 1, 0, 1, 1, 1, 1, 0, 1, 1, 1, 0, 1, 1, 1, 1, 1, 0, 1, 1, 0, 0, 1, 1, 1, 0, 0, 1, 1, 1, 1, 1, 0, 0, 1, 1, 0, 1, 1, 1, 0, 0, 1, 0, 1, 1, 1, 1, 1, 1, 0, 1, 1, 0, 1, 0, 0, 1, 0, 0, 1, 0, 0, 0, 1, 0, 1, 0, 1, 1, 1, 0, 0, 0, 0, 1, 1, 0, 1, 1, 1, 0, 1, 1, 1, 0, 0, 1, 0, 0, 1, 1, 1, 0, 0, 0, 1, 1, 1, 1, 1, 1, 0, 0, 0, 0]\n"
     ]
    }
   ],
   "source": [
    "# As we have the output on the basis of the probability we need to convert into the 0 or 1 format\n",
    "y_pred_labels = [np.argmax(i) for i in y_test_pred]\n",
    "print(y_pred_labels)\n",
    "\n",
    "#  Now we have the output labels for the test data."
   ]
  },
  {
   "cell_type": "code",
   "execution_count": null,
   "id": "6b074cfa-919f-4626-af3d-759cce8787f8",
   "metadata": {},
   "outputs": [],
   "source": []
  },
  {
   "cell_type": "code",
   "execution_count": 173,
   "id": "cb9e73a9-2727-4a09-b930-7f953532c5fb",
   "metadata": {},
   "outputs": [
    {
     "data": {
      "text/plain": [
       "array([ 1.62126819,  1.31227929,  1.59385357,  1.52998497,  0.383989  ,\n",
       "        1.06363702,  2.17088915,  1.73519224,  1.4804356 , -0.23708206,\n",
       "        0.35021158, -0.02573454, -0.02490135,  0.51301685, -0.64579986,\n",
       "        0.37260162,  0.63542468, -0.20375651, -0.58771118, -0.21613844,\n",
       "        1.35976908,  1.25316238,  1.27597733,  1.30006785, -0.18579721,\n",
       "        0.85288128,  1.43839877,  0.91250179,  0.68404906,  0.04448001])"
      ]
     },
     "execution_count": 173,
     "metadata": {},
     "output_type": "execute_result"
    }
   ],
   "source": [
    "X_test_std[34]"
   ]
  },
  {
   "cell_type": "markdown",
   "id": "924ecef8-b689-44f0-8804-c62e39d51e7c",
   "metadata": {},
   "source": [
    "## Build the Model Prediction System."
   ]
  },
  {
   "cell_type": "code",
   "execution_count": 176,
   "id": "6a5ea394-cfd5-498c-88ef-ee7dc57d7dc0",
   "metadata": {},
   "outputs": [
    {
     "name": "stdout",
     "output_type": "stream",
     "text": [
      "\u001b[1m1/1\u001b[0m \u001b[32m━━━━━━━━━━━━━━━━━━━━\u001b[0m\u001b[37m\u001b[0m \u001b[1m0s\u001b[0m 442ms/step\n",
      "The Tumor is Benign\n"
     ]
    }
   ],
   "source": [
    "# new_data = np.array([-0.04462793, -1.41612656, -0.05903514, -0.16234067,  2.0202457 ,\n",
    "#        -0.11323672,  0.18500609,  0.47102419,  0.63336386,  0.26335737,\n",
    "#         0.53209124,  2.62763999,  0.62351167,  0.11405261,  1.01246781,\n",
    "#         0.41126289,  0.63848593,  2.88971815, -0.41675911,  0.74270853,\n",
    "#        -0.32983699, -1.67435595, -0.36854552, -0.38767294,  0.32655007,\n",
    "#        -0.74858917, -0.54689089, -0.18278004, -1.23064515, -0.6268286])\n",
    "\n",
    "new_data = np.array([1.62126819,  1.31227929,  1.59385357,  1.52998497,  0.383989  ,\n",
    "        1.06363702,  2.17088915,  1.73519224,  1.4804356 , -0.23708206,\n",
    "        0.35021158, -0.02573454, -0.02490135,  0.51301685, -0.64579986,\n",
    "        0.37260162,  0.63542468, -0.20375651, -0.58771118, -0.21613844,\n",
    "        1.35976908,  1.25316238,  1.27597733,  1.30006785, -0.18579721,\n",
    "        0.85288128,  1.43839877,  0.91250179,  0.68404906,  0.04448001])\n",
    "\n",
    "#  we need to convert the data into the 2D form .\n",
    "reshaped_array = new_data.reshape(1,-1)\n",
    "\n",
    "prediction = model.predict(reshaped_array)\n",
    "\n",
    "if np.argmax(prediction) == 1:\n",
    "    print(\"The Tumor is Malignant\")\n",
    "else:\n",
    "    print(\"The Tumor is Benign\")\n"
   ]
  },
  {
   "cell_type": "code",
   "execution_count": null,
   "id": "73e8f54c-4c09-4c78-bbcf-751be9c6e895",
   "metadata": {},
   "outputs": [],
   "source": []
  }
 ],
 "metadata": {
  "kernelspec": {
   "display_name": "Python 3 (ipykernel)",
   "language": "python",
   "name": "python3"
  },
  "language_info": {
   "codemirror_mode": {
    "name": "ipython",
    "version": 3
   },
   "file_extension": ".py",
   "mimetype": "text/x-python",
   "name": "python",
   "nbconvert_exporter": "python",
   "pygments_lexer": "ipython3",
   "version": "3.12.6"
  }
 },
 "nbformat": 4,
 "nbformat_minor": 5
}

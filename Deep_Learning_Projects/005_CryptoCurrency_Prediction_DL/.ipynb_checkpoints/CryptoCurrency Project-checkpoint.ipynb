{
 "cells": [
  {
   "cell_type": "code",
   "execution_count": 65,
   "id": "aa085eb3-eb46-4b21-bf1f-06a868c224bd",
   "metadata": {},
   "outputs": [],
   "source": [
    "import yfinance as yf\n",
    "import numpy as np\n",
    "import pandas as pd\n",
    "import matplotlib.pyplot as plt\n",
    "from datetime import datetime\n",
    "\n",
    "plt.style.use('fivethirtyeight')"
   ]
  },
  {
   "cell_type": "code",
   "execution_count": null,
   "id": "2aa1db17-122a-4c0e-af36-d5304ee35198",
   "metadata": {},
   "outputs": [],
   "source": []
  },
  {
   "cell_type": "code",
   "execution_count": 66,
   "id": "fa5a92c6-ec19-4660-9226-90ac96ae5d84",
   "metadata": {},
   "outputs": [
    {
     "name": "stderr",
     "output_type": "stream",
     "text": [
      "[*********************100%***********************]  1 of 1 completed\n"
     ]
    },
    {
     "data": {
      "text/html": [
       "<div>\n",
       "<style scoped>\n",
       "    .dataframe tbody tr th:only-of-type {\n",
       "        vertical-align: middle;\n",
       "    }\n",
       "\n",
       "    .dataframe tbody tr th {\n",
       "        vertical-align: top;\n",
       "    }\n",
       "\n",
       "    .dataframe thead tr th {\n",
       "        text-align: left;\n",
       "    }\n",
       "\n",
       "    .dataframe thead tr:last-of-type th {\n",
       "        text-align: right;\n",
       "    }\n",
       "</style>\n",
       "<table border=\"1\" class=\"dataframe\">\n",
       "  <thead>\n",
       "    <tr>\n",
       "      <th>Price</th>\n",
       "      <th>Close</th>\n",
       "      <th>High</th>\n",
       "      <th>Low</th>\n",
       "      <th>Open</th>\n",
       "      <th>Volume</th>\n",
       "    </tr>\n",
       "    <tr>\n",
       "      <th>Ticker</th>\n",
       "      <th>BTC-USD</th>\n",
       "      <th>BTC-USD</th>\n",
       "      <th>BTC-USD</th>\n",
       "      <th>BTC-USD</th>\n",
       "      <th>BTC-USD</th>\n",
       "    </tr>\n",
       "    <tr>\n",
       "      <th>Date</th>\n",
       "      <th></th>\n",
       "      <th></th>\n",
       "      <th></th>\n",
       "      <th></th>\n",
       "      <th></th>\n",
       "    </tr>\n",
       "  </thead>\n",
       "  <tbody>\n",
       "    <tr>\n",
       "      <th>2014-09-17</th>\n",
       "      <td>457.334015</td>\n",
       "      <td>468.174011</td>\n",
       "      <td>452.421997</td>\n",
       "      <td>465.864014</td>\n",
       "      <td>21056800</td>\n",
       "    </tr>\n",
       "    <tr>\n",
       "      <th>2014-09-18</th>\n",
       "      <td>424.440002</td>\n",
       "      <td>456.859985</td>\n",
       "      <td>413.104004</td>\n",
       "      <td>456.859985</td>\n",
       "      <td>34483200</td>\n",
       "    </tr>\n",
       "    <tr>\n",
       "      <th>2014-09-19</th>\n",
       "      <td>394.795990</td>\n",
       "      <td>427.834991</td>\n",
       "      <td>384.532013</td>\n",
       "      <td>424.102997</td>\n",
       "      <td>37919700</td>\n",
       "    </tr>\n",
       "    <tr>\n",
       "      <th>2014-09-20</th>\n",
       "      <td>408.903992</td>\n",
       "      <td>423.295990</td>\n",
       "      <td>389.882996</td>\n",
       "      <td>394.673004</td>\n",
       "      <td>36863600</td>\n",
       "    </tr>\n",
       "    <tr>\n",
       "      <th>2014-09-21</th>\n",
       "      <td>398.821014</td>\n",
       "      <td>412.425995</td>\n",
       "      <td>393.181000</td>\n",
       "      <td>408.084991</td>\n",
       "      <td>26580100</td>\n",
       "    </tr>\n",
       "    <tr>\n",
       "      <th>...</th>\n",
       "      <td>...</td>\n",
       "      <td>...</td>\n",
       "      <td>...</td>\n",
       "      <td>...</td>\n",
       "      <td>...</td>\n",
       "    </tr>\n",
       "    <tr>\n",
       "      <th>2025-01-31</th>\n",
       "      <td>102405.023438</td>\n",
       "      <td>106026.351562</td>\n",
       "      <td>101543.882812</td>\n",
       "      <td>104737.562500</td>\n",
       "      <td>45732764360</td>\n",
       "    </tr>\n",
       "    <tr>\n",
       "      <th>2025-02-01</th>\n",
       "      <td>100655.906250</td>\n",
       "      <td>102755.726562</td>\n",
       "      <td>100297.710938</td>\n",
       "      <td>102402.796875</td>\n",
       "      <td>27757944848</td>\n",
       "    </tr>\n",
       "    <tr>\n",
       "      <th>2025-02-02</th>\n",
       "      <td>97688.976562</td>\n",
       "      <td>101430.664062</td>\n",
       "      <td>96216.078125</td>\n",
       "      <td>100661.539062</td>\n",
       "      <td>63091816853</td>\n",
       "    </tr>\n",
       "    <tr>\n",
       "      <th>2025-02-03</th>\n",
       "      <td>101405.421875</td>\n",
       "      <td>102514.171875</td>\n",
       "      <td>91242.890625</td>\n",
       "      <td>97681.101562</td>\n",
       "      <td>115400897748</td>\n",
       "    </tr>\n",
       "    <tr>\n",
       "      <th>2025-02-05</th>\n",
       "      <td>97855.632812</td>\n",
       "      <td>98828.828125</td>\n",
       "      <td>97251.804688</td>\n",
       "      <td>97807.843750</td>\n",
       "      <td>66360168448</td>\n",
       "    </tr>\n",
       "  </tbody>\n",
       "</table>\n",
       "<p>3794 rows × 5 columns</p>\n",
       "</div>"
      ],
      "text/plain": [
       "Price               Close           High            Low           Open  \\\n",
       "Ticker            BTC-USD        BTC-USD        BTC-USD        BTC-USD   \n",
       "Date                                                                     \n",
       "2014-09-17     457.334015     468.174011     452.421997     465.864014   \n",
       "2014-09-18     424.440002     456.859985     413.104004     456.859985   \n",
       "2014-09-19     394.795990     427.834991     384.532013     424.102997   \n",
       "2014-09-20     408.903992     423.295990     389.882996     394.673004   \n",
       "2014-09-21     398.821014     412.425995     393.181000     408.084991   \n",
       "...                   ...            ...            ...            ...   \n",
       "2025-01-31  102405.023438  106026.351562  101543.882812  104737.562500   \n",
       "2025-02-01  100655.906250  102755.726562  100297.710938  102402.796875   \n",
       "2025-02-02   97688.976562  101430.664062   96216.078125  100661.539062   \n",
       "2025-02-03  101405.421875  102514.171875   91242.890625   97681.101562   \n",
       "2025-02-05   97855.632812   98828.828125   97251.804688   97807.843750   \n",
       "\n",
       "Price             Volume  \n",
       "Ticker           BTC-USD  \n",
       "Date                      \n",
       "2014-09-17      21056800  \n",
       "2014-09-18      34483200  \n",
       "2014-09-19      37919700  \n",
       "2014-09-20      36863600  \n",
       "2014-09-21      26580100  \n",
       "...                  ...  \n",
       "2025-01-31   45732764360  \n",
       "2025-02-01   27757944848  \n",
       "2025-02-02   63091816853  \n",
       "2025-02-03  115400897748  \n",
       "2025-02-05   66360168448  \n",
       "\n",
       "[3794 rows x 5 columns]"
      ]
     },
     "execution_count": 66,
     "metadata": {},
     "output_type": "execute_result"
    }
   ],
   "source": [
    "start = datetime(2014, 9,17)\n",
    "end = datetime(2025, 2,6)\n",
    "\n",
    "stock = \"BTC-USD\"\n",
    "\n",
    "stock_dataset = yf.download(stock,start, end)\n",
    "\n",
    "stock_dataset"
   ]
  },
  {
   "cell_type": "code",
   "execution_count": 67,
   "id": "dea9d867-89c3-42f0-aa2d-0ab792bed6a1",
   "metadata": {},
   "outputs": [
    {
     "data": {
      "text/html": [
       "<div>\n",
       "<style scoped>\n",
       "    .dataframe tbody tr th:only-of-type {\n",
       "        vertical-align: middle;\n",
       "    }\n",
       "\n",
       "    .dataframe tbody tr th {\n",
       "        vertical-align: top;\n",
       "    }\n",
       "\n",
       "    .dataframe thead tr th {\n",
       "        text-align: left;\n",
       "    }\n",
       "\n",
       "    .dataframe thead tr:last-of-type th {\n",
       "        text-align: right;\n",
       "    }\n",
       "</style>\n",
       "<table border=\"1\" class=\"dataframe\">\n",
       "  <thead>\n",
       "    <tr>\n",
       "      <th>Price</th>\n",
       "      <th>Close</th>\n",
       "      <th>High</th>\n",
       "      <th>Low</th>\n",
       "      <th>Open</th>\n",
       "      <th>Volume</th>\n",
       "    </tr>\n",
       "    <tr>\n",
       "      <th>Ticker</th>\n",
       "      <th>BTC-USD</th>\n",
       "      <th>BTC-USD</th>\n",
       "      <th>BTC-USD</th>\n",
       "      <th>BTC-USD</th>\n",
       "      <th>BTC-USD</th>\n",
       "    </tr>\n",
       "    <tr>\n",
       "      <th>Date</th>\n",
       "      <th></th>\n",
       "      <th></th>\n",
       "      <th></th>\n",
       "      <th></th>\n",
       "      <th></th>\n",
       "    </tr>\n",
       "  </thead>\n",
       "  <tbody>\n",
       "    <tr>\n",
       "      <th>2014-09-17</th>\n",
       "      <td>457.334015</td>\n",
       "      <td>468.174011</td>\n",
       "      <td>452.421997</td>\n",
       "      <td>465.864014</td>\n",
       "      <td>21056800</td>\n",
       "    </tr>\n",
       "    <tr>\n",
       "      <th>2014-09-18</th>\n",
       "      <td>424.440002</td>\n",
       "      <td>456.859985</td>\n",
       "      <td>413.104004</td>\n",
       "      <td>456.859985</td>\n",
       "      <td>34483200</td>\n",
       "    </tr>\n",
       "    <tr>\n",
       "      <th>2014-09-19</th>\n",
       "      <td>394.795990</td>\n",
       "      <td>427.834991</td>\n",
       "      <td>384.532013</td>\n",
       "      <td>424.102997</td>\n",
       "      <td>37919700</td>\n",
       "    </tr>\n",
       "    <tr>\n",
       "      <th>2014-09-20</th>\n",
       "      <td>408.903992</td>\n",
       "      <td>423.295990</td>\n",
       "      <td>389.882996</td>\n",
       "      <td>394.673004</td>\n",
       "      <td>36863600</td>\n",
       "    </tr>\n",
       "    <tr>\n",
       "      <th>2014-09-21</th>\n",
       "      <td>398.821014</td>\n",
       "      <td>412.425995</td>\n",
       "      <td>393.181000</td>\n",
       "      <td>408.084991</td>\n",
       "      <td>26580100</td>\n",
       "    </tr>\n",
       "  </tbody>\n",
       "</table>\n",
       "</div>"
      ],
      "text/plain": [
       "Price            Close        High         Low        Open    Volume\n",
       "Ticker         BTC-USD     BTC-USD     BTC-USD     BTC-USD   BTC-USD\n",
       "Date                                                                \n",
       "2014-09-17  457.334015  468.174011  452.421997  465.864014  21056800\n",
       "2014-09-18  424.440002  456.859985  413.104004  456.859985  34483200\n",
       "2014-09-19  394.795990  427.834991  384.532013  424.102997  37919700\n",
       "2014-09-20  408.903992  423.295990  389.882996  394.673004  36863600\n",
       "2014-09-21  398.821014  412.425995  393.181000  408.084991  26580100"
      ]
     },
     "execution_count": 67,
     "metadata": {},
     "output_type": "execute_result"
    }
   ],
   "source": [
    "stock_dataset.head()"
   ]
  },
  {
   "cell_type": "code",
   "execution_count": 68,
   "id": "e0a0d7b1-26e3-44df-8670-7c105c6225b0",
   "metadata": {},
   "outputs": [
    {
     "data": {
      "text/html": [
       "<div>\n",
       "<style scoped>\n",
       "    .dataframe tbody tr th:only-of-type {\n",
       "        vertical-align: middle;\n",
       "    }\n",
       "\n",
       "    .dataframe tbody tr th {\n",
       "        vertical-align: top;\n",
       "    }\n",
       "\n",
       "    .dataframe thead tr th {\n",
       "        text-align: left;\n",
       "    }\n",
       "\n",
       "    .dataframe thead tr:last-of-type th {\n",
       "        text-align: right;\n",
       "    }\n",
       "</style>\n",
       "<table border=\"1\" class=\"dataframe\">\n",
       "  <thead>\n",
       "    <tr>\n",
       "      <th>Price</th>\n",
       "      <th>Close</th>\n",
       "      <th>High</th>\n",
       "      <th>Low</th>\n",
       "      <th>Open</th>\n",
       "      <th>Volume</th>\n",
       "    </tr>\n",
       "    <tr>\n",
       "      <th>Ticker</th>\n",
       "      <th>BTC-USD</th>\n",
       "      <th>BTC-USD</th>\n",
       "      <th>BTC-USD</th>\n",
       "      <th>BTC-USD</th>\n",
       "      <th>BTC-USD</th>\n",
       "    </tr>\n",
       "    <tr>\n",
       "      <th>Date</th>\n",
       "      <th></th>\n",
       "      <th></th>\n",
       "      <th></th>\n",
       "      <th></th>\n",
       "      <th></th>\n",
       "    </tr>\n",
       "  </thead>\n",
       "  <tbody>\n",
       "    <tr>\n",
       "      <th>2025-01-31</th>\n",
       "      <td>102405.023438</td>\n",
       "      <td>106026.351562</td>\n",
       "      <td>101543.882812</td>\n",
       "      <td>104737.562500</td>\n",
       "      <td>45732764360</td>\n",
       "    </tr>\n",
       "    <tr>\n",
       "      <th>2025-02-01</th>\n",
       "      <td>100655.906250</td>\n",
       "      <td>102755.726562</td>\n",
       "      <td>100297.710938</td>\n",
       "      <td>102402.796875</td>\n",
       "      <td>27757944848</td>\n",
       "    </tr>\n",
       "    <tr>\n",
       "      <th>2025-02-02</th>\n",
       "      <td>97688.976562</td>\n",
       "      <td>101430.664062</td>\n",
       "      <td>96216.078125</td>\n",
       "      <td>100661.539062</td>\n",
       "      <td>63091816853</td>\n",
       "    </tr>\n",
       "    <tr>\n",
       "      <th>2025-02-03</th>\n",
       "      <td>101405.421875</td>\n",
       "      <td>102514.171875</td>\n",
       "      <td>91242.890625</td>\n",
       "      <td>97681.101562</td>\n",
       "      <td>115400897748</td>\n",
       "    </tr>\n",
       "    <tr>\n",
       "      <th>2025-02-05</th>\n",
       "      <td>97855.632812</td>\n",
       "      <td>98828.828125</td>\n",
       "      <td>97251.804688</td>\n",
       "      <td>97807.843750</td>\n",
       "      <td>66360168448</td>\n",
       "    </tr>\n",
       "  </tbody>\n",
       "</table>\n",
       "</div>"
      ],
      "text/plain": [
       "Price               Close           High            Low           Open  \\\n",
       "Ticker            BTC-USD        BTC-USD        BTC-USD        BTC-USD   \n",
       "Date                                                                     \n",
       "2025-01-31  102405.023438  106026.351562  101543.882812  104737.562500   \n",
       "2025-02-01  100655.906250  102755.726562  100297.710938  102402.796875   \n",
       "2025-02-02   97688.976562  101430.664062   96216.078125  100661.539062   \n",
       "2025-02-03  101405.421875  102514.171875   91242.890625   97681.101562   \n",
       "2025-02-05   97855.632812   98828.828125   97251.804688   97807.843750   \n",
       "\n",
       "Price             Volume  \n",
       "Ticker           BTC-USD  \n",
       "Date                      \n",
       "2025-01-31   45732764360  \n",
       "2025-02-01   27757944848  \n",
       "2025-02-02   63091816853  \n",
       "2025-02-03  115400897748  \n",
       "2025-02-05   66360168448  "
      ]
     },
     "execution_count": 68,
     "metadata": {},
     "output_type": "execute_result"
    }
   ],
   "source": [
    "stock_dataset.tail()"
   ]
  },
  {
   "cell_type": "code",
   "execution_count": 69,
   "id": "372cb74f-da27-4af2-9cc4-9f049be38321",
   "metadata": {},
   "outputs": [
    {
     "data": {
      "text/plain": [
       "(3794, 5)"
      ]
     },
     "execution_count": 69,
     "metadata": {},
     "output_type": "execute_result"
    }
   ],
   "source": [
    "stock_dataset.shape"
   ]
  },
  {
   "cell_type": "code",
   "execution_count": 70,
   "id": "f096a28b-a409-4689-94dc-1ac6e020d21b",
   "metadata": {},
   "outputs": [
    {
     "data": {
      "text/html": [
       "<div>\n",
       "<style scoped>\n",
       "    .dataframe tbody tr th:only-of-type {\n",
       "        vertical-align: middle;\n",
       "    }\n",
       "\n",
       "    .dataframe tbody tr th {\n",
       "        vertical-align: top;\n",
       "    }\n",
       "\n",
       "    .dataframe thead tr th {\n",
       "        text-align: left;\n",
       "    }\n",
       "</style>\n",
       "<table border=\"1\" class=\"dataframe\">\n",
       "  <thead>\n",
       "    <tr>\n",
       "      <th>Price</th>\n",
       "      <th>Close</th>\n",
       "      <th>High</th>\n",
       "      <th>Low</th>\n",
       "      <th>Open</th>\n",
       "      <th>Volume</th>\n",
       "    </tr>\n",
       "    <tr>\n",
       "      <th>Ticker</th>\n",
       "      <th>BTC-USD</th>\n",
       "      <th>BTC-USD</th>\n",
       "      <th>BTC-USD</th>\n",
       "      <th>BTC-USD</th>\n",
       "      <th>BTC-USD</th>\n",
       "    </tr>\n",
       "  </thead>\n",
       "  <tbody>\n",
       "    <tr>\n",
       "      <th>count</th>\n",
       "      <td>3794.000000</td>\n",
       "      <td>3794.000000</td>\n",
       "      <td>3794.000000</td>\n",
       "      <td>3794.000000</td>\n",
       "      <td>3.794000e+03</td>\n",
       "    </tr>\n",
       "    <tr>\n",
       "      <th>mean</th>\n",
       "      <td>20326.996634</td>\n",
       "      <td>20757.373282</td>\n",
       "      <td>19827.813024</td>\n",
       "      <td>20301.665482</td>\n",
       "      <td>1.892327e+10</td>\n",
       "    </tr>\n",
       "    <tr>\n",
       "      <th>std</th>\n",
       "      <td>23328.226790</td>\n",
       "      <td>23803.788516</td>\n",
       "      <td>22774.535212</td>\n",
       "      <td>23295.143404</td>\n",
       "      <td>2.070868e+10</td>\n",
       "    </tr>\n",
       "    <tr>\n",
       "      <th>min</th>\n",
       "      <td>178.102997</td>\n",
       "      <td>211.731003</td>\n",
       "      <td>171.509995</td>\n",
       "      <td>176.897003</td>\n",
       "      <td>5.914570e+06</td>\n",
       "    </tr>\n",
       "    <tr>\n",
       "      <th>25%</th>\n",
       "      <td>1265.897491</td>\n",
       "      <td>1275.662537</td>\n",
       "      <td>1242.304993</td>\n",
       "      <td>1257.215027</td>\n",
       "      <td>4.807630e+08</td>\n",
       "    </tr>\n",
       "    <tr>\n",
       "      <th>50%</th>\n",
       "      <td>9468.167969</td>\n",
       "      <td>9647.977051</td>\n",
       "      <td>9261.046387</td>\n",
       "      <td>9458.936035</td>\n",
       "      <td>1.483846e+10</td>\n",
       "    </tr>\n",
       "    <tr>\n",
       "      <th>75%</th>\n",
       "      <td>32171.524902</td>\n",
       "      <td>33318.439453</td>\n",
       "      <td>30943.073242</td>\n",
       "      <td>32136.506836</td>\n",
       "      <td>3.010421e+10</td>\n",
       "    </tr>\n",
       "    <tr>\n",
       "      <th>max</th>\n",
       "      <td>106146.265625</td>\n",
       "      <td>109114.882812</td>\n",
       "      <td>105291.734375</td>\n",
       "      <td>106147.296875</td>\n",
       "      <td>3.509679e+11</td>\n",
       "    </tr>\n",
       "  </tbody>\n",
       "</table>\n",
       "</div>"
      ],
      "text/plain": [
       "Price           Close           High            Low           Open  \\\n",
       "Ticker        BTC-USD        BTC-USD        BTC-USD        BTC-USD   \n",
       "count     3794.000000    3794.000000    3794.000000    3794.000000   \n",
       "mean     20326.996634   20757.373282   19827.813024   20301.665482   \n",
       "std      23328.226790   23803.788516   22774.535212   23295.143404   \n",
       "min        178.102997     211.731003     171.509995     176.897003   \n",
       "25%       1265.897491    1275.662537    1242.304993    1257.215027   \n",
       "50%       9468.167969    9647.977051    9261.046387    9458.936035   \n",
       "75%      32171.524902   33318.439453   30943.073242   32136.506836   \n",
       "max     106146.265625  109114.882812  105291.734375  106147.296875   \n",
       "\n",
       "Price         Volume  \n",
       "Ticker       BTC-USD  \n",
       "count   3.794000e+03  \n",
       "mean    1.892327e+10  \n",
       "std     2.070868e+10  \n",
       "min     5.914570e+06  \n",
       "25%     4.807630e+08  \n",
       "50%     1.483846e+10  \n",
       "75%     3.010421e+10  \n",
       "max     3.509679e+11  "
      ]
     },
     "execution_count": 70,
     "metadata": {},
     "output_type": "execute_result"
    }
   ],
   "source": [
    "stock_dataset.describe()"
   ]
  },
  {
   "cell_type": "code",
   "execution_count": 71,
   "id": "e06ae3df-fb76-46f7-a67c-0df6156d2ca5",
   "metadata": {},
   "outputs": [
    {
     "data": {
      "text/html": [
       "<div>\n",
       "<style scoped>\n",
       "    .dataframe tbody tr th:only-of-type {\n",
       "        vertical-align: middle;\n",
       "    }\n",
       "\n",
       "    .dataframe tbody tr th {\n",
       "        vertical-align: top;\n",
       "    }\n",
       "\n",
       "    .dataframe thead th {\n",
       "        text-align: right;\n",
       "    }\n",
       "</style>\n",
       "<table border=\"1\" class=\"dataframe\">\n",
       "  <thead>\n",
       "    <tr style=\"text-align: right;\">\n",
       "      <th></th>\n",
       "      <th></th>\n",
       "      <th>count</th>\n",
       "      <th>mean</th>\n",
       "      <th>std</th>\n",
       "      <th>min</th>\n",
       "      <th>25%</th>\n",
       "      <th>50%</th>\n",
       "      <th>75%</th>\n",
       "      <th>max</th>\n",
       "    </tr>\n",
       "    <tr>\n",
       "      <th>Price</th>\n",
       "      <th>Ticker</th>\n",
       "      <th></th>\n",
       "      <th></th>\n",
       "      <th></th>\n",
       "      <th></th>\n",
       "      <th></th>\n",
       "      <th></th>\n",
       "      <th></th>\n",
       "      <th></th>\n",
       "    </tr>\n",
       "  </thead>\n",
       "  <tbody>\n",
       "    <tr>\n",
       "      <th>Close</th>\n",
       "      <th>BTC-USD</th>\n",
       "      <td>3794.0</td>\n",
       "      <td>2.032700e+04</td>\n",
       "      <td>2.332823e+04</td>\n",
       "      <td>1.781030e+02</td>\n",
       "      <td>1.265897e+03</td>\n",
       "      <td>9.468168e+03</td>\n",
       "      <td>3.217152e+04</td>\n",
       "      <td>1.061463e+05</td>\n",
       "    </tr>\n",
       "    <tr>\n",
       "      <th>High</th>\n",
       "      <th>BTC-USD</th>\n",
       "      <td>3794.0</td>\n",
       "      <td>2.075737e+04</td>\n",
       "      <td>2.380379e+04</td>\n",
       "      <td>2.117310e+02</td>\n",
       "      <td>1.275663e+03</td>\n",
       "      <td>9.647977e+03</td>\n",
       "      <td>3.331844e+04</td>\n",
       "      <td>1.091149e+05</td>\n",
       "    </tr>\n",
       "    <tr>\n",
       "      <th>Low</th>\n",
       "      <th>BTC-USD</th>\n",
       "      <td>3794.0</td>\n",
       "      <td>1.982781e+04</td>\n",
       "      <td>2.277454e+04</td>\n",
       "      <td>1.715100e+02</td>\n",
       "      <td>1.242305e+03</td>\n",
       "      <td>9.261046e+03</td>\n",
       "      <td>3.094307e+04</td>\n",
       "      <td>1.052917e+05</td>\n",
       "    </tr>\n",
       "    <tr>\n",
       "      <th>Open</th>\n",
       "      <th>BTC-USD</th>\n",
       "      <td>3794.0</td>\n",
       "      <td>2.030167e+04</td>\n",
       "      <td>2.329514e+04</td>\n",
       "      <td>1.768970e+02</td>\n",
       "      <td>1.257215e+03</td>\n",
       "      <td>9.458936e+03</td>\n",
       "      <td>3.213651e+04</td>\n",
       "      <td>1.061473e+05</td>\n",
       "    </tr>\n",
       "    <tr>\n",
       "      <th>Volume</th>\n",
       "      <th>BTC-USD</th>\n",
       "      <td>3794.0</td>\n",
       "      <td>1.892327e+10</td>\n",
       "      <td>2.070868e+10</td>\n",
       "      <td>5.914570e+06</td>\n",
       "      <td>4.807630e+08</td>\n",
       "      <td>1.483846e+10</td>\n",
       "      <td>3.010421e+10</td>\n",
       "      <td>3.509679e+11</td>\n",
       "    </tr>\n",
       "  </tbody>\n",
       "</table>\n",
       "</div>"
      ],
      "text/plain": [
       "                 count          mean           std           min  \\\n",
       "Price  Ticker                                                      \n",
       "Close  BTC-USD  3794.0  2.032700e+04  2.332823e+04  1.781030e+02   \n",
       "High   BTC-USD  3794.0  2.075737e+04  2.380379e+04  2.117310e+02   \n",
       "Low    BTC-USD  3794.0  1.982781e+04  2.277454e+04  1.715100e+02   \n",
       "Open   BTC-USD  3794.0  2.030167e+04  2.329514e+04  1.768970e+02   \n",
       "Volume BTC-USD  3794.0  1.892327e+10  2.070868e+10  5.914570e+06   \n",
       "\n",
       "                         25%           50%           75%           max  \n",
       "Price  Ticker                                                           \n",
       "Close  BTC-USD  1.265897e+03  9.468168e+03  3.217152e+04  1.061463e+05  \n",
       "High   BTC-USD  1.275663e+03  9.647977e+03  3.331844e+04  1.091149e+05  \n",
       "Low    BTC-USD  1.242305e+03  9.261046e+03  3.094307e+04  1.052917e+05  \n",
       "Open   BTC-USD  1.257215e+03  9.458936e+03  3.213651e+04  1.061473e+05  \n",
       "Volume BTC-USD  4.807630e+08  1.483846e+10  3.010421e+10  3.509679e+11  "
      ]
     },
     "execution_count": 71,
     "metadata": {},
     "output_type": "execute_result"
    }
   ],
   "source": [
    "stock_dataset.describe().T"
   ]
  },
  {
   "cell_type": "code",
   "execution_count": 72,
   "id": "b2012883-5607-4ef2-922a-968c2a9fa058",
   "metadata": {},
   "outputs": [
    {
     "name": "stdout",
     "output_type": "stream",
     "text": [
      "<class 'pandas.core.frame.DataFrame'>\n",
      "DatetimeIndex: 3794 entries, 2014-09-17 to 2025-02-05\n",
      "Data columns (total 5 columns):\n",
      " #   Column             Non-Null Count  Dtype  \n",
      "---  ------             --------------  -----  \n",
      " 0   (Close, BTC-USD)   3794 non-null   float64\n",
      " 1   (High, BTC-USD)    3794 non-null   float64\n",
      " 2   (Low, BTC-USD)     3794 non-null   float64\n",
      " 3   (Open, BTC-USD)    3794 non-null   float64\n",
      " 4   (Volume, BTC-USD)  3794 non-null   int64  \n",
      "dtypes: float64(4), int64(1)\n",
      "memory usage: 177.8 KB\n"
     ]
    }
   ],
   "source": [
    "stock_dataset.info()\n",
    "#  we dont have the missing value."
   ]
  },
  {
   "cell_type": "code",
   "execution_count": null,
   "id": "47d6a927-2de0-4b11-9c18-0804798fff3b",
   "metadata": {},
   "outputs": [],
   "source": []
  },
  {
   "cell_type": "code",
   "execution_count": 82,
   "id": "95b7c2d8-43bf-4994-b15b-4bb906f14f32",
   "metadata": {},
   "outputs": [],
   "source": [
    "# Check the close price data.\n",
    "closing_price = stock_dataset[[\"Close\"]]"
   ]
  },
  {
   "cell_type": "code",
   "execution_count": 83,
   "id": "c83e3758-cbae-49e8-978b-eba78f9b2ab4",
   "metadata": {},
   "outputs": [
    {
     "data": {
      "text/html": [
       "<div>\n",
       "<style scoped>\n",
       "    .dataframe tbody tr th:only-of-type {\n",
       "        vertical-align: middle;\n",
       "    }\n",
       "\n",
       "    .dataframe tbody tr th {\n",
       "        vertical-align: top;\n",
       "    }\n",
       "\n",
       "    .dataframe thead tr th {\n",
       "        text-align: left;\n",
       "    }\n",
       "\n",
       "    .dataframe thead tr:last-of-type th {\n",
       "        text-align: right;\n",
       "    }\n",
       "</style>\n",
       "<table border=\"1\" class=\"dataframe\">\n",
       "  <thead>\n",
       "    <tr>\n",
       "      <th>Price</th>\n",
       "      <th>Close</th>\n",
       "    </tr>\n",
       "    <tr>\n",
       "      <th>Ticker</th>\n",
       "      <th>BTC-USD</th>\n",
       "    </tr>\n",
       "    <tr>\n",
       "      <th>Date</th>\n",
       "      <th></th>\n",
       "    </tr>\n",
       "  </thead>\n",
       "  <tbody>\n",
       "    <tr>\n",
       "      <th>2014-09-17</th>\n",
       "      <td>457.334015</td>\n",
       "    </tr>\n",
       "    <tr>\n",
       "      <th>2014-09-18</th>\n",
       "      <td>424.440002</td>\n",
       "    </tr>\n",
       "    <tr>\n",
       "      <th>2014-09-19</th>\n",
       "      <td>394.795990</td>\n",
       "    </tr>\n",
       "    <tr>\n",
       "      <th>2014-09-20</th>\n",
       "      <td>408.903992</td>\n",
       "    </tr>\n",
       "    <tr>\n",
       "      <th>2014-09-21</th>\n",
       "      <td>398.821014</td>\n",
       "    </tr>\n",
       "    <tr>\n",
       "      <th>...</th>\n",
       "      <td>...</td>\n",
       "    </tr>\n",
       "    <tr>\n",
       "      <th>2025-01-31</th>\n",
       "      <td>102405.023438</td>\n",
       "    </tr>\n",
       "    <tr>\n",
       "      <th>2025-02-01</th>\n",
       "      <td>100655.906250</td>\n",
       "    </tr>\n",
       "    <tr>\n",
       "      <th>2025-02-02</th>\n",
       "      <td>97688.976562</td>\n",
       "    </tr>\n",
       "    <tr>\n",
       "      <th>2025-02-03</th>\n",
       "      <td>101405.421875</td>\n",
       "    </tr>\n",
       "    <tr>\n",
       "      <th>2025-02-05</th>\n",
       "      <td>97855.632812</td>\n",
       "    </tr>\n",
       "  </tbody>\n",
       "</table>\n",
       "<p>3794 rows × 1 columns</p>\n",
       "</div>"
      ],
      "text/plain": [
       "Price               Close\n",
       "Ticker            BTC-USD\n",
       "Date                     \n",
       "2014-09-17     457.334015\n",
       "2014-09-18     424.440002\n",
       "2014-09-19     394.795990\n",
       "2014-09-20     408.903992\n",
       "2014-09-21     398.821014\n",
       "...                   ...\n",
       "2025-01-31  102405.023438\n",
       "2025-02-01  100655.906250\n",
       "2025-02-02   97688.976562\n",
       "2025-02-03  101405.421875\n",
       "2025-02-05   97855.632812\n",
       "\n",
       "[3794 rows x 1 columns]"
      ]
     },
     "execution_count": 83,
     "metadata": {},
     "output_type": "execute_result"
    }
   ],
   "source": [
    "closing_price"
   ]
  },
  {
   "cell_type": "code",
   "execution_count": 84,
   "id": "e9a29dec-6965-448f-adef-2415b455bf91",
   "metadata": {},
   "outputs": [
    {
     "data": {
      "text/plain": [
       "DatetimeIndex(['2014-09-17', '2014-09-18', '2014-09-19', '2014-09-20',\n",
       "               '2014-09-21', '2014-09-22', '2014-09-23', '2014-09-24',\n",
       "               '2014-09-25', '2014-09-26',\n",
       "               ...\n",
       "               '2025-01-26', '2025-01-27', '2025-01-28', '2025-01-29',\n",
       "               '2025-01-30', '2025-01-31', '2025-02-01', '2025-02-02',\n",
       "               '2025-02-03', '2025-02-05'],\n",
       "              dtype='datetime64[ns]', name='Date', length=3794, freq=None)"
      ]
     },
     "execution_count": 84,
     "metadata": {},
     "output_type": "execute_result"
    }
   ],
   "source": [
    "closing_price.index"
   ]
  },
  {
   "cell_type": "code",
   "execution_count": 85,
   "id": "a0a1cc58-421f-4e8b-acf3-d7f51a2b0216",
   "metadata": {},
   "outputs": [
    {
     "data": {
      "image/png": "[encoded data removed]",
      "text/plain": [
       "<Figure size 1000x600 with 1 Axes>"
      ]
     },
     "metadata": {},
     "output_type": "display_data"
    }
   ],
   "source": [
    "#  Plot the Graph for the Closing Price.\n",
    "plt.figure(figsize=(10,6))\n",
    "plt.plot(dataset.Close, color = \"Blue\", linewidth = 1, label = \"Close Price\")\n",
    "plt.title(\"Close price of bitcoin Over time\")\n",
    "plt.xlabel(\"Years\", fontsize = 14)\n",
    "plt.ylabel(\"Close Price\", fontsize = 14)\n",
    "plt.grid(alpha = 0.3)\n",
    "plt.legend(fontsize = 12)\n",
    "plt.show()"
   ]
  },
  {
   "cell_type": "code",
   "execution_count": null,
   "id": "c09802f4-a02a-41ff-8f94-e4a4f0fe8661",
   "metadata": {},
   "outputs": [],
   "source": []
  },
  {
   "cell_type": "code",
   "execution_count": null,
   "id": "44e2c396-c422-4535-9ac8-04b4f2570afc",
   "metadata": {},
   "outputs": [],
   "source": []
  },
  {
   "cell_type": "code",
   "execution_count": 86,
   "id": "3c8423c2-30e0-4b72-89d5-961bfd863c06",
   "metadata": {},
   "outputs": [
    {
     "name": "stdout",
     "output_type": "stream",
     "text": [
      "40.0\n"
     ]
    }
   ],
   "source": [
    "# Moving Average \n",
    "temp = [10,20,30,40,50,60,70,80,90,100]\n",
    "\n",
    " # Calculate the moving average for 5 Days. (For 10, 20, 30, 40 it give the null )   ->> 30.0 40.0 \n",
    "print(sum(temp[1:6]) / 5)"
   ]
  },
  {
   "cell_type": "code",
   "execution_count": 87,
   "id": "ab523197-6695-40be-8008-89ce06f5bc8a",
   "metadata": {},
   "outputs": [
    {
     "data": {
      "text/html": [
       "<div>\n",
       "<style scoped>\n",
       "    .dataframe tbody tr th:only-of-type {\n",
       "        vertical-align: middle;\n",
       "    }\n",
       "\n",
       "    .dataframe tbody tr th {\n",
       "        vertical-align: top;\n",
       "    }\n",
       "\n",
       "    .dataframe thead th {\n",
       "        text-align: right;\n",
       "    }\n",
       "</style>\n",
       "<table border=\"1\" class=\"dataframe\">\n",
       "  <thead>\n",
       "    <tr style=\"text-align: right;\">\n",
       "      <th></th>\n",
       "      <th>0</th>\n",
       "    </tr>\n",
       "  </thead>\n",
       "  <tbody>\n",
       "    <tr>\n",
       "      <th>0</th>\n",
       "      <td>NaN</td>\n",
       "    </tr>\n",
       "    <tr>\n",
       "      <th>1</th>\n",
       "      <td>NaN</td>\n",
       "    </tr>\n",
       "    <tr>\n",
       "      <th>2</th>\n",
       "      <td>NaN</td>\n",
       "    </tr>\n",
       "    <tr>\n",
       "      <th>3</th>\n",
       "      <td>NaN</td>\n",
       "    </tr>\n",
       "    <tr>\n",
       "      <th>4</th>\n",
       "      <td>30.0</td>\n",
       "    </tr>\n",
       "    <tr>\n",
       "      <th>5</th>\n",
       "      <td>40.0</td>\n",
       "    </tr>\n",
       "    <tr>\n",
       "      <th>6</th>\n",
       "      <td>50.0</td>\n",
       "    </tr>\n",
       "    <tr>\n",
       "      <th>7</th>\n",
       "      <td>60.0</td>\n",
       "    </tr>\n",
       "    <tr>\n",
       "      <th>8</th>\n",
       "      <td>70.0</td>\n",
       "    </tr>\n",
       "    <tr>\n",
       "      <th>9</th>\n",
       "      <td>80.0</td>\n",
       "    </tr>\n",
       "  </tbody>\n",
       "</table>\n",
       "</div>"
      ],
      "text/plain": [
       "      0\n",
       "0   NaN\n",
       "1   NaN\n",
       "2   NaN\n",
       "3   NaN\n",
       "4  30.0\n",
       "5  40.0\n",
       "6  50.0\n",
       "7  60.0\n",
       "8  70.0\n",
       "9  80.0"
      ]
     },
     "execution_count": 87,
     "metadata": {},
     "output_type": "execute_result"
    }
   ],
   "source": [
    "df1 = pd.DataFrame(temp)\n",
    "df1.rolling(5).mean()"
   ]
  },
  {
   "cell_type": "code",
   "execution_count": null,
   "id": "9dc01af5-9126-46fa-9b40-0a8a8facea03",
   "metadata": {},
   "outputs": [],
   "source": []
  },
  {
   "cell_type": "code",
   "execution_count": 88,
   "id": "15539bb3-b823-401b-a81b-803496e3a96e",
   "metadata": {},
   "outputs": [
    {
     "name": "stdout",
     "output_type": "stream",
     "text": [
      "2014 106\n",
      "2015 365\n",
      "2016 366\n",
      "2017 365\n",
      "2018 365\n",
      "2019 365\n",
      "2020 366\n",
      "2021 365\n",
      "2022 365\n",
      "2023 365\n"
     ]
    }
   ],
   "source": [
    "for i in range(2014, 2024):\n",
    "    print(i, list(stock_dataset.index.year).count(i))"
   ]
  },
  {
   "cell_type": "code",
   "execution_count": 92,
   "id": "f423e462-9b4f-4a69-a9f0-18571ff193ce",
   "metadata": {},
   "outputs": [
    {
     "data": {
      "text/html": [
       "<div>\n",
       "<style scoped>\n",
       "    .dataframe tbody tr th:only-of-type {\n",
       "        vertical-align: middle;\n",
       "    }\n",
       "\n",
       "    .dataframe tbody tr th {\n",
       "        vertical-align: top;\n",
       "    }\n",
       "\n",
       "    .dataframe thead tr th {\n",
       "        text-align: left;\n",
       "    }\n",
       "\n",
       "    .dataframe thead tr:last-of-type th {\n",
       "        text-align: right;\n",
       "    }\n",
       "</style>\n",
       "<table border=\"1\" class=\"dataframe\">\n",
       "  <thead>\n",
       "    <tr>\n",
       "      <th>Price</th>\n",
       "      <th>Close</th>\n",
       "      <th>MA_365</th>\n",
       "      <th>MA_100</th>\n",
       "    </tr>\n",
       "    <tr>\n",
       "      <th>Ticker</th>\n",
       "      <th>BTC-USD</th>\n",
       "      <th></th>\n",
       "      <th></th>\n",
       "    </tr>\n",
       "    <tr>\n",
       "      <th>Date</th>\n",
       "      <th></th>\n",
       "      <th></th>\n",
       "      <th></th>\n",
       "    </tr>\n",
       "  </thead>\n",
       "  <tbody>\n",
       "    <tr>\n",
       "      <th>2014-09-17</th>\n",
       "      <td>457.334015</td>\n",
       "      <td>NaN</td>\n",
       "      <td>NaN</td>\n",
       "    </tr>\n",
       "    <tr>\n",
       "      <th>2014-09-18</th>\n",
       "      <td>424.440002</td>\n",
       "      <td>NaN</td>\n",
       "      <td>NaN</td>\n",
       "    </tr>\n",
       "    <tr>\n",
       "      <th>2014-09-19</th>\n",
       "      <td>394.795990</td>\n",
       "      <td>NaN</td>\n",
       "      <td>NaN</td>\n",
       "    </tr>\n",
       "    <tr>\n",
       "      <th>2014-09-20</th>\n",
       "      <td>408.903992</td>\n",
       "      <td>NaN</td>\n",
       "      <td>NaN</td>\n",
       "    </tr>\n",
       "    <tr>\n",
       "      <th>2014-09-21</th>\n",
       "      <td>398.821014</td>\n",
       "      <td>NaN</td>\n",
       "      <td>NaN</td>\n",
       "    </tr>\n",
       "    <tr>\n",
       "      <th>...</th>\n",
       "      <td>...</td>\n",
       "      <td>...</td>\n",
       "      <td>...</td>\n",
       "    </tr>\n",
       "    <tr>\n",
       "      <th>2025-01-31</th>\n",
       "      <td>102405.023438</td>\n",
       "      <td>70874.138774</td>\n",
       "      <td>92970.513594</td>\n",
       "    </tr>\n",
       "    <tr>\n",
       "      <th>2025-02-01</th>\n",
       "      <td>100655.906250</td>\n",
       "      <td>71031.590957</td>\n",
       "      <td>93295.462109</td>\n",
       "    </tr>\n",
       "    <tr>\n",
       "      <th>2025-02-02</th>\n",
       "      <td>97688.976562</td>\n",
       "      <td>71181.445002</td>\n",
       "      <td>93605.927734</td>\n",
       "    </tr>\n",
       "    <tr>\n",
       "      <th>2025-02-03</th>\n",
       "      <td>101405.421875</td>\n",
       "      <td>71342.600728</td>\n",
       "      <td>93949.835000</td>\n",
       "    </tr>\n",
       "    <tr>\n",
       "      <th>2025-02-05</th>\n",
       "      <td>97855.632812</td>\n",
       "      <td>71493.825289</td>\n",
       "      <td>94249.098359</td>\n",
       "    </tr>\n",
       "  </tbody>\n",
       "</table>\n",
       "<p>3794 rows × 3 columns</p>\n",
       "</div>"
      ],
      "text/plain": [
       "Price               Close        MA_365        MA_100\n",
       "Ticker            BTC-USD                            \n",
       "Date                                                 \n",
       "2014-09-17     457.334015           NaN           NaN\n",
       "2014-09-18     424.440002           NaN           NaN\n",
       "2014-09-19     394.795990           NaN           NaN\n",
       "2014-09-20     408.903992           NaN           NaN\n",
       "2014-09-21     398.821014           NaN           NaN\n",
       "...                   ...           ...           ...\n",
       "2025-01-31  102405.023438  70874.138774  92970.513594\n",
       "2025-02-01  100655.906250  71031.590957  93295.462109\n",
       "2025-02-02   97688.976562  71181.445002  93605.927734\n",
       "2025-02-03  101405.421875  71342.600728  93949.835000\n",
       "2025-02-05   97855.632812  71493.825289  94249.098359\n",
       "\n",
       "[3794 rows x 3 columns]"
      ]
     },
     "execution_count": 92,
     "metadata": {},
     "output_type": "execute_result"
    }
   ],
   "source": [
    "closing_price"
   ]
  },
  {
   "cell_type": "code",
   "execution_count": 90,
   "id": "1a038998-7de6-4102-adf8-01512bd8b1b0",
   "metadata": {},
   "outputs": [
    {
     "name": "stderr",
     "output_type": "stream",
     "text": [
      "C:\\Users\\USER\\AppData\\Local\\Temp\\ipykernel_16876\\1850500113.py:1: SettingWithCopyWarning: \n",
      "A value is trying to be set on a copy of a slice from a DataFrame.\n",
      "Try using .loc[row_indexer,col_indexer] = value instead\n",
      "\n",
      "See the caveats in the documentation: https://pandas.pydata.org/pandas-docs/stable/user_guide/indexing.html#returning-a-view-versus-a-copy\n",
      "  closing_price[\"MA_365\"] = closing_price[\"Close\"].rolling(window=365).mean()\n",
      "C:\\Users\\USER\\AppData\\Local\\Temp\\ipykernel_16876\\1850500113.py:2: SettingWithCopyWarning: \n",
      "A value is trying to be set on a copy of a slice from a DataFrame.\n",
      "Try using .loc[row_indexer,col_indexer] = value instead\n",
      "\n",
      "See the caveats in the documentation: https://pandas.pydata.org/pandas-docs/stable/user_guide/indexing.html#returning-a-view-versus-a-copy\n",
      "  closing_price[\"MA_100\"] = closing_price[\"Close\"].rolling(window=100).mean()\n"
     ]
    }
   ],
   "source": [
    "closing_price[\"MA_365\"] = closing_price[\"Close\"].rolling(window=365).mean()\n",
    "closing_price[\"MA_100\"] = closing_price[\"Close\"].rolling(window=100).mean()"
   ]
  },
  {
   "cell_type": "code",
   "execution_count": null,
   "id": "9ae92511-00cf-4de2-ab97-c5c62706bf8c",
   "metadata": {},
   "outputs": [],
   "source": []
  },
  {
   "cell_type": "code",
   "execution_count": 101,
   "id": "e4da4bf1-d326-416e-a105-e4e66cfda03e",
   "metadata": {},
   "outputs": [
    {
     "data": {
      "image/png": "[encoded data removed]",
      "text/plain": [
       "<Figure size 1000x600 with 1 Axes>"
      ]
     },
     "metadata": {},
     "output_type": "display_data"
    }
   ],
   "source": [
    "#  Plot the Graph for the Closing Price.\n",
    "plt.figure(figsize=(10,6))\n",
    "plt.plot(closing_price.Close, color = \"Blue\", linewidth = 1, label = \"Close Price\")\n",
    "plt.plot(closing_price.MA_365, color = \"green\", linewidth = 1, label = \"365 Moving Average\")\n",
    "plt.plot(closing_price.MA_100, color = \"red\", linewidth = 1, label = \"100 Moving Average\")\n",
    "plt.title(\"Close price of bitcoin with Moving Average\")\n",
    "plt.xlabel(\"Years\", fontsize = 14)\n",
    "plt.ylabel(\"Price\", fontsize = 14)\n",
    "plt.grid(alpha = 0.9)\n",
    "plt.legend(fontsize = 12)\n",
    "plt.show()"
   ]
  },
  {
   "cell_type": "raw",
   "id": "be3a669b-d8ac-4a9c-892a-20a88a46d1f4",
   "metadata": {},
   "source": []
  },
  {
   "cell_type": "markdown",
   "id": "32cb3f44-7dc6-4969-a9dd-e40cd69ab9a0",
   "metadata": {},
   "source": [
    "## Using the LSTM ->> Long Short Term Memory.\n",
    "\n",
    "In the time series we need to store the previous information and for doing this we have the RNN but RNN\n",
    "is only store the limited data so we need the LSTM for supporting the RNN functionality."
   ]
  },
  {
   "cell_type": "code",
   "execution_count": 102,
   "id": "5612dcc2-3d5f-4719-a7a7-715ab3f5cb3b",
   "metadata": {},
   "outputs": [],
   "source": [
    "from sklearn.preprocessing import MinMaxScaler"
   ]
  },
  {
   "cell_type": "code",
   "execution_count": 104,
   "id": "cc10985c-8f16-450b-a527-d84965c6ace9",
   "metadata": {},
   "outputs": [],
   "source": [
    "scaler = MinMaxScaler(feature_range=(0,1))"
   ]
  },
  {
   "cell_type": "code",
   "execution_count": 105,
   "id": "556d8fbd-c36b-435a-a9ba-43a0a92874c9",
   "metadata": {},
   "outputs": [],
   "source": [
    "scaled_data = scaler.fit_transform(closing_price[[\"Close\"]].dropna())"
   ]
  },
  {
   "cell_type": "code",
   "execution_count": 107,
   "id": "cd2cee68-97bb-46b8-9adc-efc7cc44cd3e",
   "metadata": {},
   "outputs": [
    {
     "data": {
      "text/plain": [
       "(3794, 1)"
      ]
     },
     "execution_count": 107,
     "metadata": {},
     "output_type": "execute_result"
    }
   ],
   "source": [
    "scaled_data.shape"
   ]
  },
  {
   "cell_type": "code",
   "execution_count": null,
   "id": "6f945d07-3094-4a20-8849-a413ecb988e8",
   "metadata": {},
   "outputs": [],
   "source": []
  },
  {
   "cell_type": "code",
   "execution_count": 109,
   "id": "ebf086a3-b15d-4d01-bad7-8626e577f3cd",
   "metadata": {},
   "outputs": [],
   "source": [
    "from keras.models import Sequential\n",
    "from keras.layers import Dense, Dropout, Flatten, LSTM"
   ]
  },
  {
   "cell_type": "code",
   "execution_count": null,
   "id": "4b68275a-fcbc-4a03-9f53-715160ce6606",
   "metadata": {},
   "outputs": [],
   "source": []
  },
  {
   "cell_type": "code",
   "execution_count": 110,
   "id": "362e7b3e-323b-4426-a929-026e79517ee9",
   "metadata": {},
   "outputs": [],
   "source": [
    "# Prepared the data for the LSTM.\n",
    "\n",
    "x_data = []\n",
    "y_data = []\n",
    "\n",
    "base_days = 100\n",
    "for i in range(base_days, len(scaled_data)):\n",
    "    x_data.append(scaled_data[i - base_days: i])\n",
    "    y_data.append(scaled_data[i])\n",
    "\n",
    "x_data, y_data = np.asarray(x_data), np.asarray(y_data)"
   ]
  },
  {
   "cell_type": "code",
   "execution_count": null,
   "id": "57d3db0c-886b-4f3b-9030-5339539bb479",
   "metadata": {},
   "outputs": [],
   "source": []
  },
  {
   "cell_type": "code",
   "execution_count": 111,
   "id": "d4a62d10-0940-41be-a4e7-e44f6381a401",
   "metadata": {},
   "outputs": [],
   "source": [
    "# Split into the train and test sets.\n",
    "train_size = int(len(x_data) * 0.9)\n",
    "x_train , y_train = x_data[:train_size], y_data[: train_size]\n",
    "x_test, y_test = x_data[train_size: ], y_data[train_size:]"
   ]
  },
  {
   "cell_type": "code",
   "execution_count": null,
   "id": "f4a1f3e3-bd81-4e82-b2af-7441e6eaff02",
   "metadata": {},
   "outputs": [],
   "source": []
  },
  {
   "cell_type": "markdown",
   "id": "29eb38ee-774e-4761-ab69-0e24296899c9",
   "metadata": {},
   "source": [
    "## Building the LSTM Model"
   ]
  },
  {
   "cell_type": "code",
   "execution_count": 115,
   "id": "15aea005-5405-4a8a-9379-6006642a9ec9",
   "metadata": {},
   "outputs": [
    {
     "name": "stderr",
     "output_type": "stream",
     "text": [
      "C:\\Users\\USER\\AppData\\Local\\Programs\\Python\\Python312\\Lib\\site-packages\\keras\\src\\layers\\rnn\\rnn.py:200: UserWarning: Do not pass an `input_shape`/`input_dim` argument to a layer. When using Sequential models, prefer using an `Input(shape)` object as the first layer in the model instead.\n",
      "  super().__init__(**kwargs)\n"
     ]
    }
   ],
   "source": [
    "model = Sequential([\n",
    "    LSTM(128, return_sequences=True, input_shape = (x_train.shape[1],1)),\n",
    "    LSTM(64, return_sequences=False),\n",
    "    Dense(25),\n",
    "    Dense(1)\n",
    "])"
   ]
  },
  {
   "cell_type": "code",
   "execution_count": 116,
   "id": "1e9579e2-b4a2-4b8f-8fc6-90d105247a4a",
   "metadata": {},
   "outputs": [],
   "source": [
    "#  Compile the Mode.\n",
    "model.compile(optimizer=\"adam\", loss = \"mean_squared_error\")"
   ]
  },
  {
   "cell_type": "code",
   "execution_count": 117,
   "id": "87ff1bce-460f-4b88-bd31-a70e2a988e34",
   "metadata": {},
   "outputs": [
    {
     "data": {
      "text/html": [
       "<pre style=\"white-space:pre;overflow-x:auto;line-height:normal;font-family:Menlo,'DejaVu Sans Mono',consolas,'Courier New',monospace\"><span style=\"font-weight: bold\">Model: \"sequential\"</span>\n",
       "</pre>\n"
      ],
      "text/plain": [
       "\u001b[1mModel: \"sequential\"\u001b[0m\n"
      ]
     },
     "metadata": {},
     "output_type": "display_data"
    },
    {
     "data": {
      "text/html": [
       "<pre style=\"white-space:pre;overflow-x:auto;line-height:normal;font-family:Menlo,'DejaVu Sans Mono',consolas,'Courier New',monospace\">┏━━━━━━━━━━━━━━━━━━━━━━━━━━━━━━━━━━━━━━┳━━━━━━━━━━━━━━━━━━━━━━━━━━━━━┳━━━━━━━━━━━━━━━━━┓\n",
       "┃<span style=\"font-weight: bold\"> Layer (type)                         </span>┃<span style=\"font-weight: bold\"> Output Shape                </span>┃<span style=\"font-weight: bold\">         Param # </span>┃\n",
       "┡━━━━━━━━━━━━━━━━━━━━━━━━━━━━━━━━━━━━━━╇━━━━━━━━━━━━━━━━━━━━━━━━━━━━━╇━━━━━━━━━━━━━━━━━┩\n",
       "│ lstm (<span style=\"color: #0087ff; text-decoration-color: #0087ff\">LSTM</span>)                          │ (<span style=\"color: #00d7ff; text-decoration-color: #00d7ff\">None</span>, <span style=\"color: #00af00; text-decoration-color: #00af00\">100</span>, <span style=\"color: #00af00; text-decoration-color: #00af00\">128</span>)            │          <span style=\"color: #00af00; text-decoration-color: #00af00\">66,560</span> │\n",
       "├──────────────────────────────────────┼─────────────────────────────┼─────────────────┤\n",
       "│ lstm_1 (<span style=\"color: #0087ff; text-decoration-color: #0087ff\">LSTM</span>)                        │ (<span style=\"color: #00d7ff; text-decoration-color: #00d7ff\">None</span>, <span style=\"color: #00af00; text-decoration-color: #00af00\">64</span>)                  │          <span style=\"color: #00af00; text-decoration-color: #00af00\">49,408</span> │\n",
       "├──────────────────────────────────────┼─────────────────────────────┼─────────────────┤\n",
       "│ dense (<span style=\"color: #0087ff; text-decoration-color: #0087ff\">Dense</span>)                        │ (<span style=\"color: #00d7ff; text-decoration-color: #00d7ff\">None</span>, <span style=\"color: #00af00; text-decoration-color: #00af00\">25</span>)                  │           <span style=\"color: #00af00; text-decoration-color: #00af00\">1,625</span> │\n",
       "├──────────────────────────────────────┼─────────────────────────────┼─────────────────┤\n",
       "│ dense_1 (<span style=\"color: #0087ff; text-decoration-color: #0087ff\">Dense</span>)                      │ (<span style=\"color: #00d7ff; text-decoration-color: #00d7ff\">None</span>, <span style=\"color: #00af00; text-decoration-color: #00af00\">1</span>)                   │              <span style=\"color: #00af00; text-decoration-color: #00af00\">26</span> │\n",
       "└──────────────────────────────────────┴─────────────────────────────┴─────────────────┘\n",
       "</pre>\n"
      ],
      "text/plain": [
       "┏━━━━━━━━━━━━━━━━━━━━━━━━━━━━━━━━━━━━━━┳━━━━━━━━━━━━━━━━━━━━━━━━━━━━━┳━━━━━━━━━━━━━━━━━┓\n",
       "┃\u001b[1m \u001b[0m\u001b[1mLayer (type)                        \u001b[0m\u001b[1m \u001b[0m┃\u001b[1m \u001b[0m\u001b[1mOutput Shape               \u001b[0m\u001b[1m \u001b[0m┃\u001b[1m \u001b[0m\u001b[1m        Param #\u001b[0m\u001b[1m \u001b[0m┃\n",
       "┡━━━━━━━━━━━━━━━━━━━━━━━━━━━━━━━━━━━━━━╇━━━━━━━━━━━━━━━━━━━━━━━━━━━━━╇━━━━━━━━━━━━━━━━━┩\n",
       "│ lstm (\u001b[38;5;33mLSTM\u001b[0m)                          │ (\u001b[38;5;45mNone\u001b[0m, \u001b[38;5;34m100\u001b[0m, \u001b[38;5;34m128\u001b[0m)            │          \u001b[38;5;34m66,560\u001b[0m │\n",
       "├──────────────────────────────────────┼─────────────────────────────┼─────────────────┤\n",
       "│ lstm_1 (\u001b[38;5;33mLSTM\u001b[0m)                        │ (\u001b[38;5;45mNone\u001b[0m, \u001b[38;5;34m64\u001b[0m)                  │          \u001b[38;5;34m49,408\u001b[0m │\n",
       "├──────────────────────────────────────┼─────────────────────────────┼─────────────────┤\n",
       "│ dense (\u001b[38;5;33mDense\u001b[0m)                        │ (\u001b[38;5;45mNone\u001b[0m, \u001b[38;5;34m25\u001b[0m)                  │           \u001b[38;5;34m1,625\u001b[0m │\n",
       "├──────────────────────────────────────┼─────────────────────────────┼─────────────────┤\n",
       "│ dense_1 (\u001b[38;5;33mDense\u001b[0m)                      │ (\u001b[38;5;45mNone\u001b[0m, \u001b[38;5;34m1\u001b[0m)                   │              \u001b[38;5;34m26\u001b[0m │\n",
       "└──────────────────────────────────────┴─────────────────────────────┴─────────────────┘\n"
      ]
     },
     "metadata": {},
     "output_type": "display_data"
    },
    {
     "data": {
      "text/html": [
       "<pre style=\"white-space:pre;overflow-x:auto;line-height:normal;font-family:Menlo,'DejaVu Sans Mono',consolas,'Courier New',monospace\"><span style=\"font-weight: bold\"> Total params: </span><span style=\"color: #00af00; text-decoration-color: #00af00\">117,619</span> (459.45 KB)\n",
       "</pre>\n"
      ],
      "text/plain": [
       "\u001b[1m Total params: \u001b[0m\u001b[38;5;34m117,619\u001b[0m (459.45 KB)\n"
      ]
     },
     "metadata": {},
     "output_type": "display_data"
    },
    {
     "data": {
      "text/html": [
       "<pre style=\"white-space:pre;overflow-x:auto;line-height:normal;font-family:Menlo,'DejaVu Sans Mono',consolas,'Courier New',monospace\"><span style=\"font-weight: bold\"> Trainable params: </span><span style=\"color: #00af00; text-decoration-color: #00af00\">117,619</span> (459.45 KB)\n",
       "</pre>\n"
      ],
      "text/plain": [
       "\u001b[1m Trainable params: \u001b[0m\u001b[38;5;34m117,619\u001b[0m (459.45 KB)\n"
      ]
     },
     "metadata": {},
     "output_type": "display_data"
    },
    {
     "data": {
      "text/html": [
       "<pre style=\"white-space:pre;overflow-x:auto;line-height:normal;font-family:Menlo,'DejaVu Sans Mono',consolas,'Courier New',monospace\"><span style=\"font-weight: bold\"> Non-trainable params: </span><span style=\"color: #00af00; text-decoration-color: #00af00\">0</span> (0.00 B)\n",
       "</pre>\n"
      ],
      "text/plain": [
       "\u001b[1m Non-trainable params: \u001b[0m\u001b[38;5;34m0\u001b[0m (0.00 B)\n"
      ]
     },
     "metadata": {},
     "output_type": "display_data"
    }
   ],
   "source": [
    "model.summary()"
   ]
  },
  {
   "cell_type": "code",
   "execution_count": 118,
   "id": "5a624857-b960-4737-ab3c-608192bda17a",
   "metadata": {},
   "outputs": [
    {
     "name": "stdout",
     "output_type": "stream",
     "text": [
      "Epoch 1/10\n",
      "\u001b[1m665/665\u001b[0m \u001b[32m━━━━━━━━━━━━━━━━━━━━\u001b[0m\u001b[37m\u001b[0m \u001b[1m85s\u001b[0m 111ms/step - loss: 0.0019\n",
      "Epoch 2/10\n",
      "\u001b[1m665/665\u001b[0m \u001b[32m━━━━━━━━━━━━━━━━━━━━\u001b[0m\u001b[37m\u001b[0m \u001b[1m87s\u001b[0m 118ms/step - loss: 2.5421e-04\n",
      "Epoch 3/10\n",
      "\u001b[1m665/665\u001b[0m \u001b[32m━━━━━━━━━━━━━━━━━━━━\u001b[0m\u001b[37m\u001b[0m \u001b[1m93s\u001b[0m 134ms/step - loss: 1.8342e-04\n",
      "Epoch 4/10\n",
      "\u001b[1m665/665\u001b[0m \u001b[32m━━━━━━━━━━━━━━━━━━━━\u001b[0m\u001b[37m\u001b[0m \u001b[1m126s\u001b[0m 109ms/step - loss: 1.6653e-04\n",
      "Epoch 5/10\n",
      "\u001b[1m665/665\u001b[0m \u001b[32m━━━━━━━━━━━━━━━━━━━━\u001b[0m\u001b[37m\u001b[0m \u001b[1m80s\u001b[0m 106ms/step - loss: 1.1746e-04\n",
      "Epoch 6/10\n",
      "\u001b[1m665/665\u001b[0m \u001b[32m━━━━━━━━━━━━━━━━━━━━\u001b[0m\u001b[37m\u001b[0m \u001b[1m85s\u001b[0m 128ms/step - loss: 1.0177e-04\n",
      "Epoch 7/10\n",
      "\u001b[1m665/665\u001b[0m \u001b[32m━━━━━━━━━━━━━━━━━━━━\u001b[0m\u001b[37m\u001b[0m \u001b[1m148s\u001b[0m 136ms/step - loss: 1.2342e-04\n",
      "Epoch 8/10\n",
      "\u001b[1m665/665\u001b[0m \u001b[32m━━━━━━━━━━━━━━━━━━━━\u001b[0m\u001b[37m\u001b[0m \u001b[1m132s\u001b[0m 120ms/step - loss: 1.2504e-04\n",
      "Epoch 9/10\n",
      "\u001b[1m665/665\u001b[0m \u001b[32m━━━━━━━━━━━━━━━━━━━━\u001b[0m\u001b[37m\u001b[0m \u001b[1m90s\u001b[0m 132ms/step - loss: 1.0590e-04\n",
      "Epoch 10/10\n",
      "\u001b[1m665/665\u001b[0m \u001b[32m━━━━━━━━━━━━━━━━━━━━\u001b[0m\u001b[37m\u001b[0m \u001b[1m141s\u001b[0m 131ms/step - loss: 1.1964e-04\n"
     ]
    },
    {
     "data": {
      "text/plain": [
       "<keras.src.callbacks.history.History at 0x2b843a5c290>"
      ]
     },
     "execution_count": 118,
     "metadata": {},
     "output_type": "execute_result"
    }
   ],
   "source": [
    "model.fit(x_train, y_train, batch_size=5, epochs = 10)"
   ]
  },
  {
   "cell_type": "code",
   "execution_count": null,
   "id": "0a2bb8fc-b14c-4754-860c-a908eccb5a00",
   "metadata": {},
   "outputs": [],
   "source": []
  }
 ],
 "metadata": {
  "kernelspec": {
   "display_name": "Python 3 (ipykernel)",
   "language": "python",
   "name": "python3"
  },
  "language_info": {
   "codemirror_mode": {
    "name": "ipython",
    "version": 3
   },
   "file_extension": ".py",
   "mimetype": "text/x-python",
   "name": "python",
   "nbconvert_exporter": "python",
   "pygments_lexer": "ipython3",
   "version": "3.12.6"
  }
 },
 "nbformat": 4,
 "nbformat_minor": 5
}

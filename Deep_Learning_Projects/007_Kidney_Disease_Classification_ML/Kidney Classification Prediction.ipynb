{
 "cells": [
  {
   "cell_type": "markdown",
   "id": "1d93781a-8e99-4eee-bc1c-4b91d9f79d1d",
   "metadata": {},
   "source": [
    "# Kidney Classification Prediction"
   ]
  },
  {
   "cell_type": "code",
   "execution_count": null,
   "id": "a47b8801-3c7c-4968-8790-337b082789e6",
   "metadata": {},
   "outputs": [],
   "source": [
    "import numpy as np\n",
    "import pandas as pd\n",
    "import matplotlib.pyplot as plt\n",
    "import seaborn as sns\n",
    "import plotly.e\n",
    "\n",
    "import warnings\n",
    "warnings.filterwarnings(\"ignore\")\n",
    "sns.set()\n",
    "\n",
    "plt.style().use()"
   ]
  },
  {
   "cell_type": "code",
   "execution_count": null,
   "id": "a7da06f3-e6d3-492b-a7b3-5b166b36cc3e",
   "metadata": {},
   "outputs": [],
   "source": []
  },
  {
   "cell_type": "code",
   "execution_count": null,
   "id": "017d3181-c201-4275-a703-3eccadf5faf3",
   "metadata": {},
   "outputs": [],
   "source": []
  },
  {
   "cell_type": "code",
   "execution_count": null,
   "id": "56f462ab-f56f-46ac-b917-18cb569451ad",
   "metadata": {},
   "outputs": [],
   "source": []
  },
  {
   "cell_type": "code",
   "execution_count": null,
   "id": "954700a2-61a0-424c-94f9-10ccada63f0a",
   "metadata": {},
   "outputs": [],
   "source": []
  },
  {
   "cell_type": "code",
   "execution_count": null,
   "id": "72270d72-38d2-4aa5-be6d-486566dc58f9",
   "metadata": {},
   "outputs": [],
   "source": []
  },
  {
   "cell_type": "code",
   "execution_count": null,
   "id": "574762c3-966f-4a30-a6e2-ceac9f298870",
   "metadata": {},
   "outputs": [],
   "source": []
  },
  {
   "cell_type": "code",
   "execution_count": null,
   "id": "eae9d628-b7f5-43a3-994a-cede23a557bf",
   "metadata": {},
   "outputs": [],
   "source": []
  },
  {
   "cell_type": "code",
   "execution_count": null,
   "id": "44cc6da9-38d8-487b-acc2-1441b787eb8e",
   "metadata": {},
   "outputs": [],
   "source": []
  }
 ],
 "metadata": {
  "kernelspec": {
   "display_name": "Python 3 (ipykernel)",
   "language": "python",
   "name": "python3"
  },
  "language_info": {
   "codemirror_mode": {
    "name": "ipython",
    "version": 3
   },
   "file_extension": ".py",
   "mimetype": "text/x-python",
   "name": "python",
   "nbconvert_exporter": "python",
   "pygments_lexer": "ipython3",
   "version": "3.12.6"
  }
 },
 "nbformat": 4,
 "nbformat_minor": 5
}
